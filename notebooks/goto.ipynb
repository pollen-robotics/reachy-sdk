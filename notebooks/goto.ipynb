{
 "cells": [
  {
   "cell_type": "code",
   "execution_count": 1,
   "metadata": {},
   "outputs": [],
   "source": [
    "from reachy_sdk import ReachySDK\n",
    "\n",
    "robot = ReachySDK(host='192.168.86.43')"
   ]
  },
  {
   "cell_type": "code",
   "execution_count": 2,
   "metadata": {},
   "outputs": [],
   "source": [
    "robot.l_gripper.compliant = False\n",
    "robot.r_gripper.compliant = False"
   ]
  },
  {
   "cell_type": "code",
   "execution_count": 9,
   "metadata": {},
   "outputs": [],
   "source": [
    "robot.goto({\n",
    "    robot.l_gripper: -20,\n",
    "    robot.r_gripper: 20,\n",
    "}, duration=1.0)\n",
    "robot.goto({\n",
    "    robot.l_gripper: 20,\n",
    "    robot.r_gripper: -20,\n",
    "}, duration=1.0)"
   ]
  },
  {
   "cell_type": "code",
   "execution_count": 10,
   "metadata": {},
   "outputs": [],
   "source": [
    "from reachy_sdk.trajectory.interpolation import InterpolationMode\n",
    "\n",
    "await robot.goto_async({\n",
    "    robot.l_gripper: -20,\n",
    "    robot.r_gripper: 20,\n",
    "}, duration=1.0, interpolation_mode=InterpolationMode.MINIMUM_JERK)\n",
    "await robot.goto_async({\n",
    "    robot.l_gripper: 20,\n",
    "    robot.r_gripper: -20,\n",
    "}, duration=1.0, interpolation_mode=InterpolationMode.MINIMUM_JERK)"
   ]
  },
  {
   "cell_type": "code",
   "execution_count": 3,
   "metadata": {},
   "outputs": [],
   "source": [
    "robot.l_gripper.compliant = True\n",
    "robot.r_gripper.compliant = True"
   ]
  },
  {
   "cell_type": "code",
   "execution_count": null,
   "metadata": {},
   "outputs": [],
   "source": []
  },
  {
   "cell_type": "code",
   "execution_count": null,
   "metadata": {},
   "outputs": [],
   "source": []
  }
 ],
 "metadata": {
  "kernelspec": {
   "display_name": "Python 3",
   "language": "python",
   "name": "python3"
  },
  "language_info": {
   "codemirror_mode": {
    "name": "ipython",
    "version": 3
   },
   "file_extension": ".py",
   "mimetype": "text/x-python",
   "name": "python",
   "nbconvert_exporter": "python",
   "pygments_lexer": "ipython3",
   "version": "3.9.2"
  }
 },
 "nbformat": 4,
 "nbformat_minor": 4
}
