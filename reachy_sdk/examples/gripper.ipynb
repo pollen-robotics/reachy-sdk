{
 "cells": [
  {
   "cell_type": "code",
   "execution_count": 1,
   "id": "98f7924d",
   "metadata": {},
   "outputs": [],
   "source": [
    "import asyncio\n",
    "import atexit\n",
    "import threading\n",
    "import time\n",
    "from typing import List\n",
    "from enum import Enum\n",
    "\n",
    "import grpc\n",
    "from google.protobuf.empty_pb2 import Empty\n",
    "\n",
    "from reachy_sdk_api import camera_reachy_pb2_grpc\n",
    "from reachy_sdk_api import joint_pb2, joint_pb2_grpc\n",
    "from reachy_sdk_api import fan_pb2_grpc\n",
    "from reachy_sdk_api import sensor_pb2, sensor_pb2_grpc\n",
    "from reachy_sdk_api import restart_signal_pb2, restart_signal_pb2_grpc\n",
    "\n",
    "from reachy_sdk_api.gripperMX28_pb2 import GripperMX28Command, GrippersMX28Command\n",
    "from reachy_sdk_api.gripper_pb2 import GripperCommand, GripperId, GrippersAck\n",
    "from reachy_sdk_api.gripperMX28_pb2_grpc import GripperMX28ServiceStub"
   ]
  },
  {
   "cell_type": "code",
   "execution_count": 2,
   "id": "8c06d8d2",
   "metadata": {},
   "outputs": [],
   "source": [
    "grpc_channel = grpc.insecure_channel(f'10.42.0.1:50055')"
   ]
  },
  {
   "cell_type": "markdown",
   "id": "d6fdff57",
   "metadata": {},
   "source": [
    "Gripper stuff"
   ]
  },
  {
   "cell_type": "code",
   "execution_count": 3,
   "id": "d4944d7b",
   "metadata": {},
   "outputs": [],
   "source": [
    "gripper_stub = GripperMX28ServiceStub(grpc_channel)"
   ]
  },
  {
   "cell_type": "markdown",
   "id": "64d6c7d3",
   "metadata": {},
   "source": [
    "## Checking compliance"
   ]
  },
  {
   "cell_type": "code",
   "execution_count": 10,
   "id": "8d6f8d03",
   "metadata": {},
   "outputs": [],
   "source": [
    "for i in range(50) :\n",
    "    gripper_stub.SendGripperMX28Commands(GrippersMX28Command(commands=[GripperMX28Command(id=GripperId.RIGHT, goal_position=0.35)]))\n",
    "    time.sleep(0.01)"
   ]
  },
  {
   "cell_type": "code",
   "execution_count": 24,
   "id": "4bdcb7a1",
   "metadata": {},
   "outputs": [],
   "source": [
    "reachy.head.look_at(0.5,-0.3,0.0,duration=3.0)"
   ]
  },
  {
   "cell_type": "markdown",
   "id": "f7850583",
   "metadata": {},
   "source": [
    "Lift both arms, put them in stiff mode and check if *turn_off_smoothly* works."
   ]
  },
  {
   "cell_type": "code",
   "execution_count": 17,
   "id": "eaff4dd0",
   "metadata": {},
   "outputs": [],
   "source": [
    "reachy.turn_on('reachy')"
   ]
  },
  {
   "cell_type": "code",
   "execution_count": 18,
   "id": "899c2885",
   "metadata": {},
   "outputs": [
    {
     "name": "stderr",
     "output_type": "stream",
     "text": [
      "Exception in thread Thread-5:\n",
      "Traceback (most recent call last):\n",
      "  File \"/usr/lib/python3.8/threading.py\", line 932, in _bootstrap_inner\n",
      "    self.run()\n",
      "  File \"/usr/lib/python3.8/threading.py\", line 870, in run\n",
      "    self._target(*self._args, **self._kwargs)\n",
      "  File \"/home/remi/reachy-sdk/reachy_sdk/reachy_sdk.py\", line 185, in _start_sync_in_bg\n",
      "    loop.run_until_complete(self._sync_loop())\n",
      "  File \"/usr/lib/python3.8/asyncio/base_events.py\", line 616, in run_until_complete\n",
      "    return future.result()\n",
      "  File \"/home/remi/reachy-sdk/reachy_sdk/reachy_sdk.py\", line 240, in _sync_loop\n",
      "    await asyncio.gather(\n",
      "  File \"/home/remi/reachy-sdk/reachy_sdk/reachy_sdk.py\", line 208, in _get_stream_sensor_loop\n",
      "    async for state_update in stub.StreamSensorStates(stream_req):\n",
      "  File \"/home/remi/.virtualenvs/reachy/lib/python3.8/site-packages/grpc/aio/_call.py\", line 326, in _fetch_stream_responses\n",
      "    await self._raise_for_status()\n",
      "  File \"/home/remi/.virtualenvs/reachy/lib/python3.8/site-packages/grpc/aio/_call.py\", line 236, in _raise_for_status\n",
      "    raise _create_rpc_error(await self.initial_metadata(), await\n",
      "grpc.aio._call.AioRpcError: <AioRpcError of RPC that terminated with:\n",
      "\tstatus = StatusCode.UNAVAILABLE\n",
      "\tdetails = \"Socket closed\"\n",
      "\tdebug_error_string = \"{\"created\":\"@1651831337.288683859\",\"description\":\"Error received from peer ipv4:10.42.0.1:50055\",\"file\":\"src/core/lib/surface/call.cc\",\"file_line\":903,\"grpc_message\":\"Socket closed\",\"grpc_status\":14}\"\n",
      ">\n"
     ]
    }
   ],
   "source": [
    "reachy.turn_off_smoothly('reachy')"
   ]
  },
  {
   "cell_type": "markdown",
   "id": "80533710",
   "metadata": {},
   "source": [
    "## Moving the arms"
   ]
  },
  {
   "cell_type": "markdown",
   "id": "1387c8ff",
   "metadata": {},
   "source": [
    "Put each arm at 90 degrees."
   ]
  },
  {
   "cell_type": "code",
   "execution_count": 19,
   "id": "caf45293",
   "metadata": {},
   "outputs": [],
   "source": [
    "try:\n",
    "    right_angled_position_right = {\n",
    "    reachy.r_arm.r_shoulder_pitch: 0,\n",
    "    reachy.r_arm.r_shoulder_roll: 0,\n",
    "    reachy.r_arm.r_arm_yaw: 0,\n",
    "    reachy.r_arm.r_elbow_pitch: -90,\n",
    "    reachy.r_arm.r_forearm_yaw: 0,\n",
    "    reachy.r_arm.r_wrist_pitch: 0,\n",
    "    reachy.r_arm.r_wrist_roll: 0,\n",
    "}\n",
    "except AttributeError:\n",
    "    pass\n",
    "\n",
    "try:\n",
    "    right_angled_position_left = {\n",
    "        reachy.l_arm.l_shoulder_pitch: 0,\n",
    "        reachy.l_arm.l_shoulder_roll: 0,\n",
    "        reachy.l_arm.l_arm_yaw: 0,\n",
    "        reachy.l_arm.l_elbow_pitch: -90,\n",
    "        reachy.l_arm.l_forearm_yaw: 0,\n",
    "        reachy.l_arm.l_wrist_pitch: 0,\n",
    "        reachy.l_arm.l_wrist_roll: 0,\n",
    "    }\n",
    "except AttributeError:\n",
    "    pass"
   ]
  },
  {
   "cell_type": "code",
   "execution_count": 14,
   "id": "36320685",
   "metadata": {},
   "outputs": [],
   "source": [
    "reachy.turn_on('reachy')"
   ]
  },
  {
   "cell_type": "code",
   "execution_count": 40,
   "id": "10a21a8b",
   "metadata": {},
   "outputs": [],
   "source": [
    "try:\n",
    "    goto(\n",
    "        goal_positions=right_angled_position_right,\n",
    "        duration=1.0,\n",
    "        interpolation_mode=InterpolationMode.LINEAR\n",
    "    )\n",
    "    goto(\n",
    "        goal_positions=right_angled_position_left,\n",
    "        duration=1.0,\n",
    "        interpolation_mode=InterpolationMode.MINIMUM_JERK\n",
    "    )\n",
    "except NameError:\n",
    "    print('Reachy has no right arm!')"
   ]
  },
  {
   "cell_type": "code",
   "execution_count": 11,
   "id": "67e0938d",
   "metadata": {},
   "outputs": [],
   "source": [
    "try:\n",
    "    goto(\n",
    "        goal_positions=right_angled_position_left,\n",
    "        duration=1.0,\n",
    "        interpolation_mode=InterpolationMode.MINIMUM_JERK\n",
    "    )\n",
    "except NameError:\n",
    "    print('Reachy has no left arm!')"
   ]
  },
  {
   "cell_type": "code",
   "execution_count": 41,
   "id": "8250041f",
   "metadata": {},
   "outputs": [],
   "source": [
    "reachy.turn_off_smoothly('reachy')"
   ]
  },
  {
   "cell_type": "markdown",
   "id": "2457b9a2",
   "metadata": {},
   "source": [
    "Reproduce the square movement from [the documentation](https://pollen-robotics.github.io/reachy-2021-docs/sdk/first-moves/kinematics/#inverse-kinematics), to check if this Reachy can reproduce it."
   ]
  },
  {
   "cell_type": "markdown",
   "id": "c9c295c3",
   "metadata": {},
   "source": [
    "For the right arm:"
   ]
  },
  {
   "cell_type": "code",
   "execution_count": 42,
   "id": "c6802a17",
   "metadata": {},
   "outputs": [],
   "source": [
    "A = np.array([\n",
    "  [0, 0, -1, 0.3],\n",
    "  [0, 1, 0, -0.4],  \n",
    "  [1, 0, 0, -0.3],\n",
    "  [0, 0, 0, 1],  \n",
    "])\n",
    "\n",
    "B = np.array([\n",
    "  [0, 0, -1, 0.3],\n",
    "  [0, 1, 0, -0.4],  \n",
    "  [1, 0, 0, 0.0],\n",
    "  [0, 0, 0, 1],  \n",
    "])\n",
    "\n",
    "C = np.array([\n",
    "  [0, 0, -1, 0.3],\n",
    "  [0, 1, 0, -0.1],  \n",
    "  [1, 0, 0, 0.0],\n",
    "  [0, 0, 0, 1],  \n",
    "])\n",
    "\n",
    "D = np.array([\n",
    "  [0, 0, -1, 0.3],\n",
    "  [0, 1, 0, -0.1],  \n",
    "  [1, 0, 0, -0.3],\n",
    "  [0, 0, 0, 1],  \n",
    "])"
   ]
  },
  {
   "cell_type": "code",
   "execution_count": 43,
   "id": "eafae578",
   "metadata": {},
   "outputs": [],
   "source": [
    "try:\n",
    "    joint_pos_A = reachy.r_arm.inverse_kinematics(A)\n",
    "    joint_pos_B = reachy.r_arm.inverse_kinematics(B)\n",
    "    joint_pos_C = reachy.r_arm.inverse_kinematics(C)\n",
    "    joint_pos_D = reachy.r_arm.inverse_kinematics(D)\n",
    "except AttributeError:\n",
    "    print('Reachy has no right arm!')"
   ]
  },
  {
   "cell_type": "code",
   "execution_count": 44,
   "id": "39e4971e",
   "metadata": {},
   "outputs": [],
   "source": [
    "import time\n",
    "# put the joints in stiff mode\n",
    "try:\n",
    "    reachy.turn_on('r_arm')\n",
    "\n",
    "    # use the goto function\n",
    "    goto({joint: pos for joint,pos in zip(reachy.r_arm.joints.values(), joint_pos_A)}, duration=1.0)\n",
    "    time.sleep(0.5)\n",
    "    goto({joint: pos for joint,pos in zip(reachy.r_arm.joints.values(), joint_pos_B)}, duration=1.0)\n",
    "    time.sleep(0.5)\n",
    "    goto({joint: pos for joint,pos in zip(reachy.r_arm.joints.values(), joint_pos_C)}, duration=1.0)\n",
    "    time.sleep(0.5)\n",
    "    goto({joint: pos for joint,pos in zip(reachy.r_arm.joints.values(), joint_pos_D)}, duration=1.0)\n",
    "\n",
    "    # put the joints back to compliant mode\n",
    "    # use turn_off_smoothly to prevent the arm from falling hard\n",
    "    reachy.turn_off_smoothly('r_arm')\n",
    "    \n",
    "except AttributeError:\n",
    "    print('Reachy has no right arm!')"
   ]
  },
  {
   "cell_type": "markdown",
   "id": "644df0cf",
   "metadata": {},
   "source": [
    "For the left arm:"
   ]
  },
  {
   "cell_type": "code",
   "execution_count": 45,
   "id": "c369cac4",
   "metadata": {},
   "outputs": [],
   "source": [
    "A = np.array([\n",
    "  [0, 0, -1, 0.3],\n",
    "  [0, 1, 0, 0.1],  \n",
    "  [1, 0, 0, -0.3],\n",
    "  [0, 0, 0, 1],  \n",
    "])\n",
    "\n",
    "B = np.array([\n",
    "  [0, 0, -1, 0.3],\n",
    "  [0, 1, 0, 0.1],  \n",
    "  [1, 0, 0, 0.0],\n",
    "  [0, 0, 0, 1],  \n",
    "])\n",
    "\n",
    "C = np.array([\n",
    "  [0, 0, -1, 0.3],\n",
    "  [0, 1, 0, 0.3],  \n",
    "  [1, 0, 0, 0.0],\n",
    "  [0, 0, 0, 1],  \n",
    "])\n",
    "\n",
    "D = np.array([\n",
    "  [0, 0, -1, 0.3],\n",
    "  [0, 1, 0, 0.3],  \n",
    "  [1, 0, 0, -0.3],\n",
    "  [0, 0, 0, 1],  \n",
    "])"
   ]
  },
  {
   "cell_type": "code",
   "execution_count": 46,
   "id": "9620fd8d",
   "metadata": {},
   "outputs": [],
   "source": [
    "try:\n",
    "    joint_pos_A = reachy.l_arm.inverse_kinematics(A)\n",
    "    joint_pos_B = reachy.l_arm.inverse_kinematics(B)\n",
    "    joint_pos_C = reachy.l_arm.inverse_kinematics(C)\n",
    "    joint_pos_D = reachy.l_arm.inverse_kinematics(D)\n",
    "except AttributeError:\n",
    "    print('Reachy has no left arm')"
   ]
  },
  {
   "cell_type": "code",
   "execution_count": 47,
   "id": "ebde3991",
   "metadata": {},
   "outputs": [],
   "source": [
    "# put the joints in stiff mode\n",
    "try:\n",
    "    reachy.turn_on('l_arm')\n",
    "\n",
    "    # use the goto function\n",
    "    goto({joint: pos for joint,pos in zip(reachy.l_arm.joints.values(), joint_pos_A)}, duration=1.0)\n",
    "    time.sleep(0.5)\n",
    "    goto({joint: pos for joint,pos in zip(reachy.l_arm.joints.values(), joint_pos_B)}, duration=1.0)\n",
    "    time.sleep(0.5)\n",
    "    goto({joint: pos for joint,pos in zip(reachy.l_arm.joints.values(), joint_pos_C)}, duration=1.0)\n",
    "    time.sleep(0.5)\n",
    "    goto({joint: pos for joint,pos in zip(reachy.l_arm.joints.values(), joint_pos_D)}, duration=1.0)\n",
    "\n",
    "    # put the joints back to compliant mode\n",
    "    # use turn_off_smoothly to prevent the arm from falling hard\n",
    "    reachy.turn_off_smoothly('l_arm')\n",
    "except AttributeError:\n",
    "    print('Reachy has no left arm!')"
   ]
  },
  {
   "cell_type": "markdown",
   "id": "4471c313",
   "metadata": {},
   "source": [
    "## Checking the force sensors"
   ]
  },
  {
   "cell_type": "markdown",
   "id": "9dc806a6",
   "metadata": {},
   "source": [
    "You should see one force sensor per arm, zith the *.force_sensors* object."
   ]
  },
  {
   "cell_type": "code",
   "execution_count": 51,
   "id": "fdc52045",
   "metadata": {},
   "outputs": [
    {
     "data": {
      "text/plain": [
       "<Holder\n",
       "\t<ForceSensor name=\"l_force_gripper\" force=\"207.92\">\n",
       ">"
      ]
     },
     "execution_count": 51,
     "metadata": {},
     "output_type": "execute_result"
    }
   ],
   "source": [
    "reachy.force_sensors"
   ]
  },
  {
   "cell_type": "markdown",
   "id": "003213c1",
   "metadata": {},
   "source": [
    "The force value should be positive when applying a force towards the exterior of the gripper (e.g. when you try to open the gripper which is in stiff mode). On the contrary, you should get a negative force value when applying a force towards the interior of the gripper.  "
   ]
  },
  {
   "cell_type": "markdown",
   "id": "14eeab42",
   "metadata": {},
   "source": [
    "First, place the grippers in stiff mode, it will be easier to check the force values."
   ]
  },
  {
   "cell_type": "code",
   "execution_count": 52,
   "id": "975fd07e",
   "metadata": {},
   "outputs": [],
   "source": [
    "try:\n",
    "    reachy.l_arm.l_gripper.compliant = False\n",
    "except AttributeError:\n",
    "    print('Reachy has no left arm.')"
   ]
  },
  {
   "cell_type": "code",
   "execution_count": 53,
   "id": "60c472c6",
   "metadata": {},
   "outputs": [],
   "source": [
    "try:\n",
    "    reachy.r_arm.r_gripper.compliant = False\n",
    "except AttributeError:\n",
    "    print('Reachy has no right arm.')"
   ]
  },
  {
   "cell_type": "markdown",
   "id": "e41326bc",
   "metadata": {},
   "source": [
    "Now, try to close each gripper and check that when you doing this, the force value is negative."
   ]
  },
  {
   "cell_type": "code",
   "execution_count": 54,
   "id": "ced090d3",
   "metadata": {},
   "outputs": [
    {
     "ename": "AttributeError",
     "evalue": "'DeviceHolder' object has no attribute 'r_force_gripper'",
     "output_type": "error",
     "traceback": [
      "\u001b[0;31m---------------------------------------------------------------------------\u001b[0m",
      "\u001b[0;31mAttributeError\u001b[0m                            Traceback (most recent call last)",
      "Input \u001b[0;32mIn [54]\u001b[0m, in \u001b[0;36m<cell line: 1>\u001b[0;34m()\u001b[0m\n\u001b[0;32m----> 1\u001b[0m \u001b[43mreachy\u001b[49m\u001b[38;5;241;43m.\u001b[39;49m\u001b[43mforce_sensors\u001b[49m\u001b[38;5;241;43m.\u001b[39;49m\u001b[43mr_force_gripper\u001b[49m\n",
      "\u001b[0;31mAttributeError\u001b[0m: 'DeviceHolder' object has no attribute 'r_force_gripper'"
     ]
    }
   ],
   "source": [
    "reachy.force_sensors.r_force_gripper"
   ]
  },
  {
   "cell_type": "code",
   "execution_count": 55,
   "id": "8e777590",
   "metadata": {},
   "outputs": [
    {
     "data": {
      "text/plain": [
       "<ForceSensor name=\"l_force_gripper\" force=\"-93.33\">"
      ]
     },
     "execution_count": 55,
     "metadata": {},
     "output_type": "execute_result"
    }
   ],
   "source": [
    "reachy.force_sensors.l_force_gripper"
   ]
  },
  {
   "cell_type": "markdown",
   "id": "69e89806",
   "metadata": {},
   "source": [
    "Next, try to open each gripper and check that when you doing this, the force value is positive."
   ]
  },
  {
   "cell_type": "code",
   "execution_count": 56,
   "id": "6f5da24c",
   "metadata": {},
   "outputs": [
    {
     "ename": "AttributeError",
     "evalue": "'DeviceHolder' object has no attribute 'r_force_gripper'",
     "output_type": "error",
     "traceback": [
      "\u001b[0;31m---------------------------------------------------------------------------\u001b[0m",
      "\u001b[0;31mAttributeError\u001b[0m                            Traceback (most recent call last)",
      "Input \u001b[0;32mIn [56]\u001b[0m, in \u001b[0;36m<cell line: 1>\u001b[0;34m()\u001b[0m\n\u001b[0;32m----> 1\u001b[0m \u001b[43mreachy\u001b[49m\u001b[38;5;241;43m.\u001b[39;49m\u001b[43mforce_sensors\u001b[49m\u001b[38;5;241;43m.\u001b[39;49m\u001b[43mr_force_gripper\u001b[49m\n",
      "\u001b[0;31mAttributeError\u001b[0m: 'DeviceHolder' object has no attribute 'r_force_gripper'"
     ]
    }
   ],
   "source": [
    "reachy.force_sensors.r_force_gripper"
   ]
  },
  {
   "cell_type": "code",
   "execution_count": 57,
   "id": "017f5372",
   "metadata": {},
   "outputs": [
    {
     "data": {
      "text/plain": [
       "<ForceSensor name=\"l_force_gripper\" force=\"211.92\">"
      ]
     },
     "execution_count": 57,
     "metadata": {},
     "output_type": "execute_result"
    }
   ],
   "source": [
    "reachy.force_sensors.l_force_gripper"
   ]
  },
  {
   "cell_type": "markdown",
   "id": "84b076e5",
   "metadata": {},
   "source": [
    "Finally, put the grippers back to compliant mode."
   ]
  },
  {
   "cell_type": "code",
   "execution_count": 58,
   "id": "838b4599",
   "metadata": {},
   "outputs": [],
   "source": [
    "try:\n",
    "    reachy.l_arm.l_gripper.compliant = True\n",
    "except AttributeError:\n",
    "    pass"
   ]
  },
  {
   "cell_type": "code",
   "execution_count": 59,
   "id": "88831aed",
   "metadata": {},
   "outputs": [],
   "source": [
    "try:\n",
    "    reachy.r_arm.r_gripper.compliant = True\n",
    "except AttributeError:\n",
    "    pass"
   ]
  },
  {
   "cell_type": "code",
   "execution_count": null,
   "id": "9de91d5f",
   "metadata": {},
   "outputs": [],
   "source": []
  }
 ],
 "metadata": {
  "kernelspec": {
   "display_name": "Python 3 (ipykernel)",
   "language": "python",
   "name": "python3"
  },
  "language_info": {
   "codemirror_mode": {
    "name": "ipython",
    "version": 3
   },
   "file_extension": ".py",
   "mimetype": "text/x-python",
   "name": "python",
   "nbconvert_exporter": "python",
   "pygments_lexer": "ipython3",
   "version": "3.8.10"
  }
 },
 "nbformat": 4,
 "nbformat_minor": 5
}
