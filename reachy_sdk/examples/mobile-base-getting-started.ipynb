{
 "cells": [
  {
   "cell_type": "markdown",
   "id": "3be7fb53",
   "metadata": {},
   "source": [
    "# Getting started with Reachy's mobile base\n",
    "\n",
    "This notebook will help you get your hands on Reachy's mobile using Reachy SDK python api.\n",
    "\n",
    "You will learn how to connect to Reachy's mobile base, access basic information, send movement commands\n",
    "and check advanced features.\n",
    "\n",
    "⚠️ For this notebook to work, you will need reachy-sdk's version to be >= XX [TODO]. Also, make sure that you have the service [mobile_base_sdk_server.service](https://docs.pollen-robotics.com/advanced/services/available/#mobile_base_sdk_serverservice) enabled and running or [have the mobile base's main ROS launch file](https://github.com/pollen-robotics/mobile_base_sdk_server/blob/main/launch/run_mobile_base_sdk_server_and_hal.launch.py) launched. This starts all the code needed to connect to the mobile base.\n",
    "\n",
    "For more information, check [Reachy's online documentation](https://docs.pollen-robotics.com/)."
   ]
  },
  {
   "cell_type": "markdown",
   "id": "3d2ba123",
   "metadata": {},
   "source": [
    "## Connect to the mobile base\n",
    "\n",
    "With just two lines of code you can connect to Reachy's mobile base just like with Reachy."
   ]
  },
  {
   "cell_type": "code",
   "execution_count": null,
   "id": "e11af457",
   "metadata": {},
   "outputs": [],
   "source": [
    "from reachy_sdk import ReachySDK"
   ]
  },
  {
   "cell_type": "markdown",
   "id": "1e492ff9",
   "metadata": {},
   "source": [
    "Just specify that you are using a mobile base with Reachy to connect to both."
   ]
  },
  {
   "cell_type": "code",
   "execution_count": null,
   "id": "b5649903",
   "metadata": {},
   "outputs": [],
   "source": [
    "reachy_mobile = ReachySDK(host='192.168.86.35', with_mobile_base=True) # Replace with your Reachy's IP address"
   ]
  },
  {
   "cell_type": "markdown",
   "id": "1de7665e",
   "metadata": {},
   "source": [
    "## At any time you can call the emergency stop if you have a problem with the mobile base\n",
    "\n",
    "The mobile base will immediately stop moving."
   ]
  },
  {
   "cell_type": "code",
   "execution_count": null,
   "id": "abdc51d2",
   "metadata": {},
   "outputs": [],
   "source": [
    "reachy_mobile.mobile_base.emergency_shutdown()"
   ]
  },
  {
   "cell_type": "markdown",
   "id": "f2ebc9fe",
   "metadata": {},
   "source": [
    "## Utility commands\n",
    "\n",
    "Once the connection with the mobile base established, you have access to information such as the mobile base's model version, battery voltage, drive mode and control mode."
   ]
  },
  {
   "cell_type": "code",
   "execution_count": null,
   "id": "8065d1df",
   "metadata": {},
   "outputs": [],
   "source": [
    "reachy_mobile.mobile_base"
   ]
  },
  {
   "cell_type": "code",
   "execution_count": null,
   "id": "178a8fe0",
   "metadata": {},
   "outputs": [],
   "source": [
    "reachy_mobile.mobile_base.model_version"
   ]
  },
  {
   "cell_type": "code",
   "execution_count": null,
   "id": "d22968a4",
   "metadata": {},
   "outputs": [],
   "source": [
    "reachy_mobile.mobile_base.battery_voltage"
   ]
  },
  {
   "cell_type": "markdown",
   "id": "dddf8dde",
   "metadata": {},
   "source": [
    "## Odometry\n",
    "\n",
    "You can have access to the mobile base odometry with the *odometry* attribute. The odometry is initialised when the *reachy_mobile_base.service* or the mobile base hal and sdk is started OR whenever the *reset_odometry* method is called."
   ]
  },
  {
   "cell_type": "markdown",
   "id": "7d6a5711",
   "metadata": {},
   "source": [
    "**NOTE:** x and y are in meters and theta is in degree."
   ]
  },
  {
   "cell_type": "code",
   "execution_count": null,
   "id": "1b2d4536",
   "metadata": {},
   "outputs": [],
   "source": [
    "reachy_mobile.mobile_base.odometry"
   ]
  },
  {
   "cell_type": "code",
   "execution_count": null,
   "id": "6cbc6ede",
   "metadata": {},
   "outputs": [],
   "source": [
    "reachy_mobile.mobile_base.reset_odometry()"
   ]
  },
  {
   "cell_type": "code",
   "execution_count": null,
   "id": "d3b9b05c",
   "metadata": {},
   "outputs": [],
   "source": [
    "reachy_mobile.mobile_base.odometry"
   ]
  },
  {
   "cell_type": "markdown",
   "id": "3d0060d1",
   "metadata": {},
   "source": [
    "## Mobility commands\n",
    "\n",
    "Two methods are available to send moving instructions to the mobile base:\n",
    "* **set_speed**: send translation speed instructions along the x and y axis (in m/s) and/or a rotation speed (in deg/s) instruction to the mobile base. Note that the speed instructions will be applied for a **duration of 200ms** by default, so the idea here is to spam speed commands. To test this function, run the 'joy_controller.py' code and pilot the robot with the joysticks.\n",
    "\n",
    "\n",
    "* **goto**: send a cartesian target point (x, y in meters) in the odometry frame and a desired orientation (theta in degree) for the mobile base.\n",
    "\n",
    "**Note that the LIDAR is used by default to prevent collisions**. More details in the lidar-safety notebook."
   ]
  },
  {
   "cell_type": "markdown",
   "id": "ef14a29f",
   "metadata": {},
   "source": [
    "### go to (x in m, y in m, theta in deg)\n",
    "'Go to' in the odometry frame. After an odometry reset, the point (0,0) is the current position of the robot with: x is in front of the robot, y to the left and theta positive in the counter-clockwise direction."
   ]
  },
  {
   "cell_type": "code",
   "execution_count": null,
   "id": "7728857a",
   "metadata": {},
   "outputs": [],
   "source": [
    "reachy_mobile.mobile_base.reset_odometry()\n",
    "reachy_mobile.mobile_base.goto(x=0, y=0, theta=90)"
   ]
  },
  {
   "cell_type": "markdown",
   "id": "c663e669",
   "metadata": {},
   "source": [
    "You can also have access to the distance between the mobile base and its last goto target with the *_distance_to_goto_goal* attribute. "
   ]
  },
  {
   "cell_type": "code",
   "execution_count": null,
   "id": "8f23bd3f",
   "metadata": {},
   "outputs": [],
   "source": [
    "reachy_mobile.mobile_base._distance_to_goto_goal()"
   ]
  },
  {
   "cell_type": "code",
   "execution_count": null,
   "id": "b69285e7",
   "metadata": {},
   "outputs": [],
   "source": []
  }
 ],
 "metadata": {
  "kernelspec": {
   "display_name": "Python 3",
   "language": "python",
   "name": "python3"
  },
  "language_info": {
   "codemirror_mode": {
    "name": "ipython",
    "version": 3
   },
   "file_extension": ".py",
   "mimetype": "text/x-python",
   "name": "python",
   "nbconvert_exporter": "python",
   "pygments_lexer": "ipython3",
   "version": "3.8.10"
  }
 },
 "nbformat": 4,
 "nbformat_minor": 5
}
