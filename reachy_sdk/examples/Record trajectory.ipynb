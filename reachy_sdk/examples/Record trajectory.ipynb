{
 "cells": [
  {
   "cell_type": "code",
   "execution_count": null,
   "metadata": {},
   "outputs": [],
   "source": [
    "%matplotlib notebook\n",
    "\n",
    "from matplotlib import pyplot as plt"
   ]
  },
  {
   "cell_type": "code",
   "execution_count": null,
   "metadata": {},
   "outputs": [],
   "source": [
    "from reachy_sdk import ReachySDK"
   ]
  },
  {
   "cell_type": "code",
   "execution_count": null,
   "metadata": {},
   "outputs": [],
   "source": [
    "reachy = ReachySDK(host='192.168.1.46')"
   ]
  },
  {
   "cell_type": "code",
   "execution_count": null,
   "metadata": {},
   "outputs": [],
   "source": [
    "reachy.turn_on('l_arm')"
   ]
  },
  {
   "cell_type": "markdown",
   "metadata": {},
   "source": [
    "### Using the thread version"
   ]
  },
  {
   "cell_type": "code",
   "execution_count": null,
   "metadata": {},
   "outputs": [],
   "source": [
    "from reachy_sdk.trajectory import goto\n",
    "\n",
    "import time\n",
    "from threading import Thread\n",
    "\n",
    "running = True\n",
    "data = []\n",
    "\n",
    "def record():\n",
    "    while running:\n",
    "        data.append([\n",
    "            j.present_position\n",
    "            for j in reachy.l_arm.joints.values()\n",
    "        ])\n",
    "        time.sleep(0.01)\n",
    "    \n",
    "t = Thread(target=record)\n",
    "t.start()\n",
    "    \n",
    "goto({reachy.l_arm.l_elbow_pitch: -90}, duration=3)\n",
    "running = False\n",
    "t.join()\n",
    "\n",
    "plt.figure()\n",
    "plt.plot(data)"
   ]
  },
  {
   "cell_type": "markdown",
   "metadata": {},
   "source": [
    "### Using the async version"
   ]
  },
  {
   "cell_type": "code",
   "execution_count": null,
   "metadata": {},
   "outputs": [],
   "source": [
    "import asyncio\n",
    "\n",
    "from reachy_sdk.trajectory import goto_async\n",
    "\n",
    "running = [True]\n",
    "data = []\n",
    "\n",
    "async def rec():\n",
    "    while running[0]:\n",
    "        data.append([\n",
    "            j.present_position\n",
    "            for j in reachy.l_arm.joints.values()\n",
    "        ])\n",
    "        await asyncio.sleep(0.01)\n",
    "    \n",
    "async def play():\n",
    "    await goto_async({reachy.l_arm.l_elbow_pitch: 0}, duration=3)\n",
    "    running[0] = False\n",
    "\n",
    "await asyncio.gather(\n",
    "    play(),\n",
    "    rec(),\n",
    ")\n",
    "    \n",
    "plt.figure()\n",
    "plt.plot(data)"
   ]
  },
  {
   "cell_type": "code",
   "execution_count": null,
   "metadata": {},
   "outputs": [],
   "source": [
    "reachy.turn_off('l_arm')"
   ]
  },
  {
   "cell_type": "code",
   "execution_count": null,
   "metadata": {},
   "outputs": [],
   "source": []
  }
 ],
 "metadata": {
  "kernelspec": {
   "display_name": "Python 3",
   "language": "python",
   "name": "python3"
  },
  "language_info": {
   "codemirror_mode": {
    "name": "ipython",
    "version": 3
   },
   "file_extension": ".py",
   "mimetype": "text/x-python",
   "name": "python",
   "nbconvert_exporter": "python",
   "pygments_lexer": "ipython3",
   "version": "3.9.12"
  }
 },
 "nbformat": 4,
 "nbformat_minor": 4
}
