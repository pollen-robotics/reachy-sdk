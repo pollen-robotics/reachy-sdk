{
 "cells": [
  {
   "cell_type": "code",
   "execution_count": null,
   "id": "98f7924d",
   "metadata": {},
   "outputs": [],
   "source": [
    "import numpy as np\n",
    "\n",
    "from reachy_sdk import ReachySDK\n",
    "\n",
    "from reachy_sdk.trajectory import goto\n",
    "from reachy_sdk.trajectory.interpolation import InterpolationMode\n",
    "import time"
   ]
  },
  {
   "cell_type": "code",
   "execution_count": null,
   "id": "8c06d8d2",
   "metadata": {},
   "outputs": [],
   "source": [
    "reachy = ReachySDK('192.168.1.21')"
   ]
  },
  {
   "cell_type": "markdown",
   "id": "d6fdff57",
   "metadata": {},
   "source": [
    "Check if all the joints seem to be detected."
   ]
  },
  {
   "cell_type": "code",
   "execution_count": null,
   "id": "d4944d7b",
   "metadata": {},
   "outputs": [],
   "source": [
    "for j in reachy.joints.values():\n",
    "    j.torque_limit = 0"
   ]
  },
  {
   "cell_type": "markdown",
   "id": "64d6c7d3",
   "metadata": {},
   "source": [
    "## Checking compliance"
   ]
  },
  {
   "cell_type": "code",
   "execution_count": null,
   "id": "8d6f8d03",
   "metadata": {},
   "outputs": [],
   "source": [
    "reachy.joints"
   ]
  },
  {
   "cell_type": "code",
   "execution_count": null,
   "id": "4bdcb7a1",
   "metadata": {},
   "outputs": [],
   "source": [
    "reachy.head.look_at(0.5,0.0,0.0,duration=3.0)"
   ]
  },
  {
   "cell_type": "markdown",
   "id": "f7850583",
   "metadata": {},
   "source": [
    "Lift both arms, put them in stiff mode and check if *turn_off_smoothly* works."
   ]
  },
  {
   "cell_type": "code",
   "execution_count": null,
   "id": "eaff4dd0",
   "metadata": {},
   "outputs": [],
   "source": [
    "reachy.turn_on('reachy')"
   ]
  },
  {
   "cell_type": "code",
   "execution_count": null,
   "id": "899c2885",
   "metadata": {},
   "outputs": [],
   "source": [
    "reachy.turn_off_smoothly('reachy')"
   ]
  },
  {
   "cell_type": "markdown",
   "id": "80533710",
   "metadata": {},
   "source": [
    "## Moving the arms"
   ]
  },
  {
   "cell_type": "code",
   "execution_count": null,
   "id": "64eb0a8b",
   "metadata": {},
   "outputs": [],
   "source": [
    "from scipy.spatial.transform import Rotation as R\n",
    "import numpy as np\n",
    "\n",
    "R.from_matrix([\n",
    "    [0, 0, -1],\n",
    "    [0, 1, 0],\n",
    "    [1, 0, 0],\n",
    "]).as_euler('xyz', degrees=True)\n"
   ]
  },
  {
   "cell_type": "code",
   "execution_count": null,
   "id": "ca493ecd",
   "metadata": {},
   "outputs": [],
   "source": [
    "from scipy.spatial.transform import Rotation as R\n",
    "import numpy as np\n",
    "def create_target_xyz_roll_yaw(x, y, z, roll, yaw) :\n",
    "    y_rot = np.around(R.from_euler('y', np.deg2rad(-90)).as_matrix(), 3)\n",
    "    #print(y_rot)\n",
    "    x_rot = np.around(R.from_euler('z', np.deg2rad(roll)).as_matrix(), 3)\n",
    "    z_rot = np.around(R.from_euler('x', np.deg2rad(yaw)).as_matrix(), 3)\n",
    "    #print(x_rot)\n",
    "    total_rot = y_rot@x_rot@z_rot\n",
    "    #print(total_rot)\n",
    "    total_rot=np.r_[ total_rot, [np.array([1, 1, 1])] ]\n",
    "    #print(total_rot)\n",
    "    total_rot=np.c_[ total_rot, np.array([x, y, z, 1]) ] \n",
    "    #print(total_rot)\n",
    "    return total_rot"
   ]
  },
  {
   "cell_type": "code",
   "execution_count": null,
   "id": "a4bc2ffc",
   "metadata": {},
   "outputs": [],
   "source": [
    "print(create_target_xyz_roll_yaw(0.3, 0.15, -0.4, 0, 0))"
   ]
  },
  {
   "cell_type": "markdown",
   "id": "644df0cf",
   "metadata": {},
   "source": [
    "For the left arm:"
   ]
  },
  {
   "cell_type": "code",
   "execution_count": null,
   "id": "c369cac4",
   "metadata": {},
   "outputs": [],
   "source": [
    "A = np.array([\n",
    "  [0, 0, -1, 0.3],\n",
    "  [0, 1, 0, 0.15],  \n",
    "  [1, 0, 0, -0.40],\n",
    "  [0, 0, 0, 1],  \n",
    "])\n",
    "\n",
    "B = np.array([\n",
    "  [0, 0, -1, 0.3],\n",
    "  [0, 1, 0, 0.15],  \n",
    "  [1, 0, 0, -0.445],\n",
    "  [0, 0, 0, 1],  \n",
    "])"
   ]
  },
  {
   "cell_type": "code",
   "execution_count": null,
   "id": "962d3dfd",
   "metadata": {},
   "outputs": [],
   "source": [
    "A=create_target_xyz_roll_yaw(0.3, 0.125, -0.4, 0, -20)\n",
    "B=create_target_xyz_roll_yaw(0.3, 0.125, -0.435, 0, -20)"
   ]
  },
  {
   "cell_type": "code",
   "execution_count": null,
   "id": "c4880d08",
   "metadata": {},
   "outputs": [],
   "source": [
    "targets = []\n",
    "targets.append(create_target_xyz_roll_yaw(0.3, 0.20, -0.4, -4, -20))\n",
    "targets.append(create_target_xyz_roll_yaw(0.3, 0.20, -0.445, -4, -20))\n",
    "targets.append(create_target_xyz_roll_yaw(0.3, 0.17, -0.4, -4, -20))\n",
    "targets.append(create_target_xyz_roll_yaw(0.3, 0.17, -0.445, -4, -20))\n",
    "targets.append(create_target_xyz_roll_yaw(0.3, 0.14, -0.4, -0, -20))\n",
    "targets.append(create_target_xyz_roll_yaw(0.3, 0.14, -0.445, -0, -20))"
   ]
  },
  {
   "cell_type": "code",
   "execution_count": null,
   "id": "6589ec47",
   "metadata": {},
   "outputs": [],
   "source": []
  },
  {
   "cell_type": "code",
   "execution_count": null,
   "id": "b8c63a6b",
   "metadata": {},
   "outputs": [],
   "source": [
    "# put the joints in stiff mode\n",
    "try:\n",
    "    reachy.turn_on('l_arm')\n",
    "\n",
    "    # use the goto function\n",
    "    for i in range(6) :\n",
    "        for t in targets :\n",
    "            goto({joint: pos for joint,pos in zip(reachy.l_arm.joints.values(),reachy.l_arm.inverse_kinematics(t) )}, duration=0.5)\n",
    "            time.sleep(0.3)\n",
    "    \n",
    "    goto({joint: pos for joint,pos in zip(reachy.l_arm.joints.values(), reachy.l_arm.inverse_kinematics(targets[0]))}, duration=1.0)\n",
    "    time.sleep(0.2)\n",
    "    # put the joints back to compliant mode\n",
    "    # use turn_off_smoothly to prevent the arm from falling hard\n",
    "    #reachy.turn_off_smoothly('l_arm')\n",
    "except AttributeError:\n",
    "    print('Reachy has no left arm!')"
   ]
  },
  {
   "cell_type": "code",
   "execution_count": null,
   "id": "c1af7472",
   "metadata": {},
   "outputs": [],
   "source": [
    "# put the joints in stiff mode\n",
    "try:\n",
    "    reachy.turn_on('l_arm')\n",
    "\n",
    "    goto({joint: pos for joint,pos in zip(reachy.l_arm.joints.values(), reachy.l_arm.inverse_kinematics(targets[0]))}, duration=1.0)\n",
    "    time.sleep(0.2)\n",
    "    # put the joints back to compliant mode\n",
    "    # use turn_off_smoothly to prevent the arm from falling hard\n",
    "    #reachy.turn_off_smoothly('l_arm')\n",
    "except AttributeError:\n",
    "    print('Reachy has no left arm!')"
   ]
  },
  {
   "cell_type": "code",
   "execution_count": null,
   "id": "9de91d5f",
   "metadata": {},
   "outputs": [],
   "source": [
    "reachy.turn_off_smoothly('reachy')"
   ]
  },
  {
   "cell_type": "code",
   "execution_count": null,
   "id": "84660a56",
   "metadata": {},
   "outputs": [],
   "source": [
    "A = np.array([\n",
    "    [0, 0, -1, 0.3],\n",
    "    [0, 1, 0, 0.15],\n",
    "    [1, 0, 0, -0.40],\n",
    "    [0, 0, 0, 1],\n",
    "])\n",
    "\n",
    "B = np.array([\n",
    "    [0, 0, -1, 0.3],\n",
    "    [0, 1, 0, 0.15],\n",
    "    [1, 0, 0, -0.445],\n",
    "    [0, 0, 0, 1],\n",
    "])\n",
    "# put the joints in stiff mode\n",
    "try:\n",
    "    reachy.turn_on('l_arm')\n",
    "\n",
    "    goto({joint: pos for joint, pos in zip(reachy.l_arm.joints.values(),\n",
    "         reachy.l_arm.inverse_kinematics(A))}, duration=2)\n",
    "\n",
    "except AttributeError:\n",
    "    print('Reachy has no left arm!')"
   ]
  },
  {
   "cell_type": "code",
   "execution_count": null,
   "id": "6ba4c855",
   "metadata": {},
   "outputs": [],
   "source": []
  }
 ],
 "metadata": {
  "kernelspec": {
   "display_name": "Python 3 (ipykernel)",
   "language": "python",
   "name": "python3"
  },
  "language_info": {
   "codemirror_mode": {
    "name": "ipython",
    "version": 3
   },
   "file_extension": ".py",
   "mimetype": "text/x-python",
   "name": "python",
   "nbconvert_exporter": "python",
   "pygments_lexer": "ipython3",
   "version": "3.8.10"
  }
 },
 "nbformat": 4,
 "nbformat_minor": 5
}
