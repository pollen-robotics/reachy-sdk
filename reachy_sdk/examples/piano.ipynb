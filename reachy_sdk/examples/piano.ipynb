{
 "cells": [
  {
   "cell_type": "code",
   "execution_count": 1,
   "id": "98f7924d",
   "metadata": {},
   "outputs": [],
   "source": [
    "import numpy as np\n",
    "\n",
    "from reachy_sdk import ReachySDK\n",
    "\n",
    "from reachy_sdk.trajectory import goto\n",
    "from reachy_sdk.trajectory.interpolation import InterpolationMode\n",
    "import time"
   ]
  },
  {
   "cell_type": "code",
   "execution_count": 2,
   "id": "8c06d8d2",
   "metadata": {},
   "outputs": [],
   "source": [
    "reachy = ReachySDK('192.168.1.21')"
   ]
  },
  {
   "cell_type": "markdown",
   "id": "d6fdff57",
   "metadata": {},
   "source": [
    "Check if all the joints seem to be detected."
   ]
  },
  {
   "cell_type": "code",
   "execution_count": 5,
   "id": "d4944d7b",
   "metadata": {},
   "outputs": [],
   "source": [
    "for j in reachy.joints.values():\n",
    "    j.torque_limit = 100"
   ]
  },
  {
   "cell_type": "markdown",
   "id": "64d6c7d3",
   "metadata": {},
   "source": [
    "## Checking compliance"
   ]
  },
  {
   "cell_type": "code",
   "execution_count": 6,
   "id": "8d6f8d03",
   "metadata": {},
   "outputs": [
    {
     "data": {
      "text/plain": [
       "<Holder\n",
       "\t<Joint name=\"l_shoulder_pitch\" pos=\"-4.99\" mode=\"compliant\">\n",
       "\t<Joint name=\"l_shoulder_roll\" pos=\"-1.08\" mode=\"compliant\">\n",
       "\t<Joint name=\"l_arm_yaw\" pos=\"-37.41\" mode=\"compliant\">\n",
       "\t<Joint name=\"l_elbow_pitch\" pos=\"1.54\" mode=\"compliant\">\n",
       "\t<Joint name=\"l_forearm_yaw\" pos=\"-40.62\" mode=\"compliant\">\n",
       "\t<Joint name=\"l_wrist_pitch\" pos=\"-5.58\" mode=\"compliant\">\n",
       "\t<Joint name=\"l_wrist_roll\" pos=\"-18.04\" mode=\"compliant\">\n",
       "\t<Joint name=\"l_gripper\" pos=\"35.12\" mode=\"compliant\">\n",
       "\t<Joint name=\"r_shoulder_pitch\" pos=\"-3.23\" mode=\"compliant\">\n",
       "\t<Joint name=\"r_shoulder_roll\" pos=\"-3.14\" mode=\"compliant\">\n",
       "\t<Joint name=\"r_arm_yaw\" pos=\"-6.90\" mode=\"compliant\">\n",
       "\t<Joint name=\"r_elbow_pitch\" pos=\"-0.57\" mode=\"compliant\">\n",
       "\t<Joint name=\"r_forearm_yaw\" pos=\"-9.01\" mode=\"compliant\">\n",
       "\t<Joint name=\"r_wrist_pitch\" pos=\"1.36\" mode=\"compliant\">\n",
       "\t<Joint name=\"r_wrist_roll\" pos=\"22.73\" mode=\"compliant\">\n",
       "\t<Joint name=\"r_gripper\" pos=\"-41.28\" mode=\"compliant\">\n",
       "\t<Joint name=\"l_antenna\" pos=\"19.50\" mode=\"compliant\">\n",
       "\t<Joint name=\"r_antenna\" pos=\"-24.78\" mode=\"compliant\">\n",
       "\t<Joint name=\"neck_roll\" pos=\"14.33\" mode=\"compliant\">\n",
       "\t<Joint name=\"neck_pitch\" pos=\"-23.83\" mode=\"compliant\">\n",
       "\t<Joint name=\"neck_yaw\" pos=\"3.65\" mode=\"compliant\">\n",
       ">"
      ]
     },
     "execution_count": 6,
     "metadata": {},
     "output_type": "execute_result"
    }
   ],
   "source": [
    "reachy.joints"
   ]
  },
  {
   "cell_type": "code",
   "execution_count": 15,
   "id": "4bdcb7a1",
   "metadata": {},
   "outputs": [],
   "source": [
    "reachy.head.look_at(0.5,0.0,0.0,duration=3.0)"
   ]
  },
  {
   "cell_type": "markdown",
   "id": "f7850583",
   "metadata": {},
   "source": [
    "Lift both arms, put them in stiff mode and check if *turn_off_smoothly* works."
   ]
  },
  {
   "cell_type": "code",
   "execution_count": 3,
   "id": "eaff4dd0",
   "metadata": {},
   "outputs": [],
   "source": [
    "reachy.turn_on('reachy')"
   ]
  },
  {
   "cell_type": "code",
   "execution_count": 4,
   "id": "899c2885",
   "metadata": {},
   "outputs": [],
   "source": [
    "reachy.turn_off_smoothly('reachy')"
   ]
  },
  {
   "cell_type": "markdown",
   "id": "80533710",
   "metadata": {},
   "source": [
    "## Moving the arms"
   ]
  },
  {
   "cell_type": "code",
   "execution_count": 77,
   "id": "64eb0a8b",
   "metadata": {},
   "outputs": [
    {
     "name": "stderr",
     "output_type": "stream",
     "text": [
      "/tmp/ipykernel_32083/2867394349.py:4: UserWarning: Gimbal lock detected. Setting third angle to zero since it is not possible to uniquely determine all angles.\n",
      "  R.from_matrix([\n"
     ]
    },
    {
     "data": {
      "text/plain": [
       "array([  0.        , -89.99999879,   0.        ])"
      ]
     },
     "execution_count": 77,
     "metadata": {},
     "output_type": "execute_result"
    }
   ],
   "source": [
    "from scipy.spatial.transform import Rotation as R\n",
    "import numpy as np\n",
    "\n",
    "R.from_matrix([\n",
    "    [0, 0, -1],\n",
    "    [0, 1, 0],\n",
    "    [1, 0, 0],\n",
    "]).as_euler('xyz', degrees=True)\n"
   ]
  },
  {
   "cell_type": "code",
   "execution_count": 7,
   "id": "ca493ecd",
   "metadata": {},
   "outputs": [],
   "source": [
    "from scipy.spatial.transform import Rotation as R\n",
    "import numpy as np\n",
    "def create_target_xyz_roll_yaw(x, y, z, roll, yaw) :\n",
    "    y_rot = np.around(R.from_euler('y', np.deg2rad(-90)).as_matrix(), 3)\n",
    "    #print(y_rot)\n",
    "    x_rot = np.around(R.from_euler('z', np.deg2rad(roll)).as_matrix(), 3)\n",
    "    z_rot = np.around(R.from_euler('x', np.deg2rad(yaw)).as_matrix(), 3)\n",
    "    #print(x_rot)\n",
    "    total_rot = y_rot@x_rot@z_rot\n",
    "    #print(total_rot)\n",
    "    total_rot=np.r_[ total_rot, [np.array([1, 1, 1])] ]\n",
    "    #print(total_rot)\n",
    "    total_rot=np.c_[ total_rot, np.array([x, y, z, 1]) ] \n",
    "    #print(total_rot)\n",
    "    return total_rot"
   ]
  },
  {
   "cell_type": "code",
   "execution_count": 204,
   "id": "a4bc2ffc",
   "metadata": {},
   "outputs": [
    {
     "name": "stdout",
     "output_type": "stream",
     "text": [
      "[[ 0.    0.   -1.    0.3 ]\n",
      " [ 0.    1.    0.    0.15]\n",
      " [ 1.    0.    0.   -0.4 ]\n",
      " [ 1.    1.    1.    1.  ]]\n"
     ]
    }
   ],
   "source": [
    "print(create_target_xyz_roll_yaw(0.3, 0.15, -0.4, 0, 0))"
   ]
  },
  {
   "cell_type": "markdown",
   "id": "644df0cf",
   "metadata": {},
   "source": [
    "For the left arm:"
   ]
  },
  {
   "cell_type": "code",
   "execution_count": 177,
   "id": "c369cac4",
   "metadata": {},
   "outputs": [],
   "source": [
    "A = np.array([\n",
    "  [0, 0, -1, 0.3],\n",
    "  [0, 1, 0, 0.15],  \n",
    "  [1, 0, 0, -0.40],\n",
    "  [0, 0, 0, 1],  \n",
    "])\n",
    "\n",
    "B = np.array([\n",
    "  [0, 0, -1, 0.3],\n",
    "  [0, 1, 0, 0.15],  \n",
    "  [1, 0, 0, -0.445],\n",
    "  [0, 0, 0, 1],  \n",
    "])"
   ]
  },
  {
   "cell_type": "code",
   "execution_count": 244,
   "id": "962d3dfd",
   "metadata": {},
   "outputs": [],
   "source": [
    "A=create_target_xyz_roll_yaw(0.3, 0.125, -0.4, 0, -20)\n",
    "B=create_target_xyz_roll_yaw(0.3, 0.125, -0.435, 0, -20)"
   ]
  },
  {
   "cell_type": "code",
   "execution_count": 59,
   "id": "c4880d08",
   "metadata": {},
   "outputs": [],
   "source": [
    "targets = []\n",
    "targets.append(create_target_xyz_roll_yaw(0.3, 0.20, -0.4, -4, -20))\n",
    "targets.append(create_target_xyz_roll_yaw(0.3, 0.20, -0.445, -4, -20))\n",
    "targets.append(create_target_xyz_roll_yaw(0.3, 0.17, -0.4, -4, -20))\n",
    "targets.append(create_target_xyz_roll_yaw(0.3, 0.17, -0.445, -4, -20))\n",
    "targets.append(create_target_xyz_roll_yaw(0.3, 0.14, -0.4, -0, -20))\n",
    "targets.append(create_target_xyz_roll_yaw(0.3, 0.14, -0.445, -0, -20))"
   ]
  },
  {
   "cell_type": "code",
   "execution_count": null,
   "id": "6589ec47",
   "metadata": {},
   "outputs": [],
   "source": []
  },
  {
   "cell_type": "code",
   "execution_count": 62,
   "id": "b8c63a6b",
   "metadata": {},
   "outputs": [],
   "source": [
    "# put the joints in stiff mode\n",
    "try:\n",
    "    reachy.turn_on('l_arm')\n",
    "\n",
    "    # use the goto function\n",
    "    for i in range(6) :\n",
    "        for t in targets :\n",
    "            goto({joint: pos for joint,pos in zip(reachy.l_arm.joints.values(),reachy.l_arm.inverse_kinematics(t) )}, duration=0.5)\n",
    "            time.sleep(0.3)\n",
    "    \n",
    "    goto({joint: pos for joint,pos in zip(reachy.l_arm.joints.values(), reachy.l_arm.inverse_kinematics(targets[0]))}, duration=1.0)\n",
    "    time.sleep(0.2)\n",
    "    # put the joints back to compliant mode\n",
    "    # use turn_off_smoothly to prevent the arm from falling hard\n",
    "    #reachy.turn_off_smoothly('l_arm')\n",
    "except AttributeError:\n",
    "    print('Reachy has no left arm!')"
   ]
  },
  {
   "cell_type": "code",
   "execution_count": 23,
   "id": "c1af7472",
   "metadata": {},
   "outputs": [],
   "source": [
    "# put the joints in stiff mode\n",
    "try:\n",
    "    reachy.turn_on('l_arm')\n",
    "\n",
    "    goto({joint: pos for joint,pos in zip(reachy.l_arm.joints.values(), reachy.l_arm.inverse_kinematics(targets[0]))}, duration=1.0)\n",
    "    time.sleep(0.2)\n",
    "    # put the joints back to compliant mode\n",
    "    # use turn_off_smoothly to prevent the arm from falling hard\n",
    "    #reachy.turn_off_smoothly('l_arm')\n",
    "except AttributeError:\n",
    "    print('Reachy has no left arm!')"
   ]
  },
  {
   "cell_type": "code",
   "execution_count": 63,
   "id": "9de91d5f",
   "metadata": {},
   "outputs": [
    {
     "name": "stderr",
     "output_type": "stream",
     "text": [
      "Exception in thread Thread-5:\n",
      "Traceback (most recent call last):\n",
      "  File \"/usr/lib/python3.8/threading.py\", line 932, in _bootstrap_inner\n",
      "    self.run()\n",
      "  File \"/usr/lib/python3.8/threading.py\", line 870, in run\n",
      "    self._target(*self._args, **self._kwargs)\n",
      "  File \"/home/remi/pollen_code/reachy-sdk/reachy_sdk/reachy_sdk.py\", line 203, in _start_sync_in_bg\n",
      "    loop.run_until_complete(self._sync_loop())\n",
      "  File \"/usr/lib/python3.8/asyncio/base_events.py\", line 616, in run_until_complete\n",
      "    return future.result()\n",
      "  File \"/home/remi/pollen_code/reachy-sdk/reachy_sdk/reachy_sdk.py\", line 258, in _sync_loop\n",
      "    await asyncio.gather(\n",
      "  File \"/home/remi/pollen_code/reachy-sdk/reachy_sdk/reachy_sdk.py\", line 226, in _get_stream_sensor_loop\n",
      "    async for state_update in stub.StreamSensorStates(stream_req):\n",
      "  File \"/home/remi/.virtualenvs/reachy/lib/python3.8/site-packages/grpc/aio/_call.py\", line 326, in _fetch_stream_responses\n",
      "    await self._raise_for_status()\n",
      "  File \"/home/remi/.virtualenvs/reachy/lib/python3.8/site-packages/grpc/aio/_call.py\", line 236, in _raise_for_status\n",
      "    raise _create_rpc_error(await self.initial_metadata(), await\n",
      "grpc.aio._call.AioRpcError: <AioRpcError of RPC that terminated with:\n",
      "\tstatus = StatusCode.UNAVAILABLE\n",
      "\tdetails = \"Socket closed\"\n",
      "\tdebug_error_string = \"{\"created\":\"@1662141212.654967465\",\"description\":\"Error received from peer ipv4:192.168.1.21:50055\",\"file\":\"src/core/lib/surface/call.cc\",\"file_line\":903,\"grpc_message\":\"Socket closed\",\"grpc_status\":14}\"\n",
      ">\n"
     ]
    }
   ],
   "source": [
    "reachy.turn_off_smoothly('reachy')"
   ]
  },
  {
   "cell_type": "code",
   "execution_count": null,
   "id": "84660a56",
   "metadata": {},
   "outputs": [],
   "source": []
  }
 ],
 "metadata": {
  "kernelspec": {
   "display_name": "Python 3 (ipykernel)",
   "language": "python",
   "name": "python3"
  },
  "language_info": {
   "codemirror_mode": {
    "name": "ipython",
    "version": 3
   },
   "file_extension": ".py",
   "mimetype": "text/x-python",
   "name": "python",
   "nbconvert_exporter": "python",
   "pygments_lexer": "ipython3",
   "version": "3.8.10"
  }
 },
 "nbformat": 4,
 "nbformat_minor": 5
}
