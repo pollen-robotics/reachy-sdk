{
 "cells": [
  {
   "cell_type": "code",
   "execution_count": 1,
   "id": "0d933ac2",
   "metadata": {},
   "outputs": [],
   "source": [
    "from reachy_sdk import ReachySDK"
   ]
  },
  {
   "cell_type": "code",
   "execution_count": 2,
   "id": "ecfbe8fc",
   "metadata": {},
   "outputs": [],
   "source": [
    "reachy = ReachySDK('localhost')"
   ]
  },
  {
   "cell_type": "markdown",
   "id": "643096f9",
   "metadata": {},
   "source": [
    "Check if you see the five joints of the head."
   ]
  },
  {
   "cell_type": "code",
   "execution_count": 3,
   "id": "05712290",
   "metadata": {},
   "outputs": [
    {
     "data": {
      "text/plain": [
       "<Head joints=<Holder\n",
       "\t<Joint name=\"l_antenna\" pos=\"-0.44\" mode=\"compliant\">\n",
       "\t<Joint name=\"r_antenna\" pos=\"-1.32\" mode=\"compliant\">\n",
       "\t<Joint name=\"neck_disk_top\" pos=\"-59.39\" mode=\"compliant\">\n",
       "\t<Joint name=\"neck_disk_middle\" pos=\"-64.42\" mode=\"compliant\">\n",
       "\t<Joint name=\"neck_disk_bottom\" pos=\"-56.34\" mode=\"compliant\">\n",
       ">>"
      ]
     },
     "execution_count": 3,
     "metadata": {},
     "output_type": "execute_result"
    }
   ],
   "source": [
    "reachy.head"
   ]
  },
  {
   "cell_type": "markdown",
   "id": "756a520c",
   "metadata": {},
   "source": [
    "Use look_at to see if the zero has been actually done."
   ]
  },
  {
   "cell_type": "code",
   "execution_count": 4,
   "id": "d205bb18",
   "metadata": {},
   "outputs": [],
   "source": [
    "reachy.turn_on('head')"
   ]
  },
  {
   "cell_type": "code",
   "execution_count": 5,
   "id": "815a4183",
   "metadata": {},
   "outputs": [],
   "source": [
    "reachy.head.look_at(x=0.5, y=0, z=0, duration=1.0)"
   ]
  },
  {
   "cell_type": "markdown",
   "id": "ce1999be",
   "metadata": {},
   "source": [
    "Reproduce the look_at sequence of the [documentation](https://pollen-robotics.github.io/reachy-2021-docs/sdk/first-moves/head/#orbita-look_at-method)."
   ]
  },
  {
   "cell_type": "code",
   "execution_count": 6,
   "id": "ec9b7a02",
   "metadata": {},
   "outputs": [],
   "source": [
    "import time\n",
    "\n",
    "look_right = reachy.head.look_at(x=0.5, y=-0.5, z=0.1, duration=1.0)\n",
    "time.sleep(0.1)\n",
    "look_down = reachy.head.look_at(x=0.5, y=0, z=-0.4, duration=1.0)\n",
    "time.sleep(0.1)\n",
    "look_left = reachy.head.look_at(x=0.5, y=0.3, z=-0.3, duration=1.0)\n",
    "time.sleep(0.1)\n",
    "look_front = reachy.head.look_at(x=0.5, y=0, z=0, duration=1.0)"
   ]
  },
  {
   "cell_type": "markdown",
   "id": "6858fa4b",
   "metadata": {},
   "source": [
    "Make the head follow the end-effector. It is a good opportunity to check the forward kinematics of each arm as well.\n",
    "\n",
    "With the right arm:"
   ]
  },
  {
   "cell_type": "code",
   "execution_count": 8,
   "id": "1062c215",
   "metadata": {},
   "outputs": [],
   "source": [
    "x, y, z = reachy.r_arm.forward_kinematics()[:3,-1] # We want the translation part of Reachy's pose matrix\n",
    "reachy.head.look_at(x=x, y=y, z=z-0.05, duration=1.0) # There is a 5cm offset on the z axis\n",
    "\n",
    "time.sleep(0.5)\n",
    "\n",
    "while True:\n",
    "    x, y, z = reachy.r_arm.forward_kinematics()[:3,-1]\n",
    "    gp_dic = reachy.head._look_at(x, y, z - 0.05)\n",
    "    reachy.head.neck_disk_bottom.goal_position = gp_dic[reachy.head.neck_disk_bottom]\n",
    "    reachy.head.neck_disk_middle.goal_position = gp_dic[reachy.head.neck_disk_middle]\n",
    "    reachy.head.neck_disk_top.goal_position = gp_dic[reachy.head.neck_disk_top]\n",
    "    time.sleep(0.01)"
   ]
  },
  {
   "cell_type": "markdown",
   "id": "d972c85a",
   "metadata": {},
   "source": [
    "With the left arm:"
   ]
  },
  {
   "cell_type": "code",
   "execution_count": 11,
   "id": "0d981a61",
   "metadata": {},
   "outputs": [],
   "source": [
    "x, y, z = reachy.l_arm.forward_kinematics()[:3,-1] # We want the translation part of Reachy's pose matrix\n",
    "reachy.head.look_at(x=x, y=y, z=z-0.05, duration=1.0) # There is a 5cm offset on the z axis\n",
    "\n",
    "time.sleep(0.5)\n",
    "\n",
    "while True:\n",
    "    x, y, z = reachy.l_arm.forward_kinematics()[:3,-1]\n",
    "    gp_dic = reachy.head._look_at(x, y, z - 0.05)\n",
    "    reachy.head.neck_disk_bottom.goal_position = gp_dic[reachy.head.neck_disk_bottom]\n",
    "    reachy.head.neck_disk_middle.goal_position = gp_dic[reachy.head.neck_disk_middle]\n",
    "    reachy.head.neck_disk_top.goal_position = gp_dic[reachy.head.neck_disk_top]\n",
    "    time.sleep(0.01)"
   ]
  },
  {
   "cell_type": "markdown",
   "id": "844312e6",
   "metadata": {},
   "source": [
    "Check the antennas.\n",
    "\n",
    "First check that the l_antenna is actually the left and that r_antenna is the right."
   ]
  },
  {
   "cell_type": "code",
   "execution_count": 13,
   "id": "c20ba637",
   "metadata": {},
   "outputs": [],
   "source": [
    "reachy.head.l_antenna.goal_position = -40"
   ]
  },
  {
   "cell_type": "code",
   "execution_count": 14,
   "id": "a9facac4",
   "metadata": {},
   "outputs": [],
   "source": [
    "reachy.head.l_antenna.goal_position = 0"
   ]
  },
  {
   "cell_type": "code",
   "execution_count": 15,
   "id": "9317ea0a",
   "metadata": {},
   "outputs": [],
   "source": [
    "reachy.head.r_antenna.goal_position = -40"
   ]
  },
  {
   "cell_type": "code",
   "execution_count": 16,
   "id": "ccb98642",
   "metadata": {},
   "outputs": [],
   "source": [
    "reachy.head.r_antenna.goal_position = 0"
   ]
  },
  {
   "cell_type": "markdown",
   "id": "7dd667ba",
   "metadata": {},
   "source": [
    "Reproduce the sad and happy movements from the [documentation](https://pollen-robotics.github.io/reachy-2021-docs/sdk/first-moves/head/#antennas)."
   ]
  },
  {
   "cell_type": "code",
   "execution_count": 17,
   "id": "ff9d530e",
   "metadata": {},
   "outputs": [],
   "source": [
    "def happy_antennas():\n",
    "    reachy.head.l_antenna.speed_limit = 0.0\n",
    "    reachy.head.r_antenna.speed_limit = 0.0\n",
    "    \n",
    "    for _ in range(9):\n",
    "        reachy.head.l_antenna.goal_position = 10.0\n",
    "        reachy.head.r_antenna.goal_position = -10.0\n",
    "\n",
    "        time.sleep(0.1)\n",
    "\n",
    "        reachy.head.l_antenna.goal_position = -10.0\n",
    "        reachy.head.r_antenna.goal_position = 10.0\n",
    "\n",
    "        time.sleep(0.1)\n",
    "    \n",
    "    reachy.head.l_antenna.goal_position = 0.0\n",
    "    reachy.head.r_antenna.goal_position = 0.0\n",
    "        \n",
    "def sad_antennas():\n",
    "    reachy.head.l_antenna.speed_limit = 70.0\n",
    "    reachy.head.r_antenna.speed_limit = 70.0\n",
    "    \n",
    "    reachy.head.l_antenna.goal_position = 140.0\n",
    "    reachy.head.r_antenna.goal_position = -140.0\n",
    "    \n",
    "    time.sleep(5.0)\n",
    "    \n",
    "    reachy.head.l_antenna.goal_position = 0.0\n",
    "    reachy.head.r_antenna.goal_position = 0.0"
   ]
  },
  {
   "cell_type": "code",
   "execution_count": 18,
   "id": "d34affa3",
   "metadata": {},
   "outputs": [],
   "source": [
    "happy_antennas()"
   ]
  },
  {
   "cell_type": "code",
   "execution_count": 19,
   "id": "41e4cdda",
   "metadata": {},
   "outputs": [],
   "source": [
    "sad_antennas()"
   ]
  },
  {
   "cell_type": "code",
   "execution_count": null,
   "id": "bbc32739",
   "metadata": {},
   "outputs": [],
   "source": []
  }
 ],
 "metadata": {
  "kernelspec": {
   "display_name": "Python 3",
   "language": "python",
   "name": "python3"
  },
  "language_info": {
   "codemirror_mode": {
    "name": "ipython",
    "version": 3
   },
   "file_extension": ".py",
   "mimetype": "text/x-python",
   "name": "python",
   "nbconvert_exporter": "python",
   "pygments_lexer": "ipython3",
   "version": "3.8.5"
  }
 },
 "nbformat": 4,
 "nbformat_minor": 5
}
