{
 "cells": [
  {
   "cell_type": "code",
   "execution_count": null,
   "id": "0d933ac2",
   "metadata": {},
   "outputs": [],
   "source": [
    "from reachy_sdk import ReachySDK"
   ]
  },
  {
   "cell_type": "markdown",
   "id": "c6b5cd59",
   "metadata": {},
   "source": [
    "Connect to Reachy. If you're working directly on the robot, use\n",
    "\n",
    "```python\n",
    "host='localhost'\n",
    "```\n",
    "\n",
    "If not, just get Reachy's IP address with\n",
    "\n",
    "```bash\n",
    "$ ifconfig\n",
    "```\n",
    "\n",
    "and replace the host argument zith the IP address."
   ]
  },
  {
   "cell_type": "code",
   "execution_count": null,
   "id": "ecfbe8fc",
   "metadata": {},
   "outputs": [],
   "source": [
    "reachy = ReachySDK(host='localhost')"
   ]
  },
  {
   "cell_type": "markdown",
   "id": "643096f9",
   "metadata": {},
   "source": [
    "Check if you see the five joints of the head."
   ]
  },
  {
   "cell_type": "code",
   "execution_count": null,
   "id": "05712290",
   "metadata": {},
   "outputs": [],
   "source": [
    "reachy.head"
   ]
  },
  {
   "cell_type": "markdown",
   "id": "756a520c",
   "metadata": {},
   "source": [
    "Use look_at to see if the zero has been actually done."
   ]
  },
  {
   "cell_type": "markdown",
   "id": "2e210b2e",
   "metadata": {},
   "source": [
    "## Checking Orbita"
   ]
  },
  {
   "cell_type": "code",
   "execution_count": null,
   "id": "d205bb18",
   "metadata": {},
   "outputs": [],
   "source": [
    "reachy.turn_on('head')"
   ]
  },
  {
   "cell_type": "markdown",
   "id": "243efbe9",
   "metadata": {},
   "source": [
    "Make Reachy look forward."
   ]
  },
  {
   "cell_type": "code",
   "execution_count": null,
   "id": "815a4183",
   "metadata": {},
   "outputs": [],
   "source": [
    "reachy.head.look_at(\n",
    "    x=0.5,\n",
    "    y=0,\n",
    "    z=0,\n",
    "    duration=1.0,\n",
    "    starting_positions={\n",
    "        reachy.head.neck_roll: reachy.head.neck_roll.goal_position,\n",
    "        reachy.head.neck_pitch: reachy.head.neck_pitch.goal_position,\n",
    "        reachy.head.neck_yaw: reachy.head.neck_yaw.goal_position\n",
    "    })"
   ]
  },
  {
   "cell_type": "markdown",
   "id": "56efdbec",
   "metadata": {},
   "source": [
    "If this didn't work, it's likely that the zeros of Orbita have not been set. To do that use [orbita_zero.py](https://github.com/pollen-robotics/reachy_controllers/blob/master/setup/orbita_zero.py)."
   ]
  },
  {
   "cell_type": "markdown",
   "id": "ce1999be",
   "metadata": {},
   "source": [
    "Next, reproduce the look_at sequence of the [documentation](https://pollen-robotics.github.io/reachy-2021-docs/sdk/first-moves/head/#orbita-look_at-method)."
   ]
  },
  {
   "cell_type": "code",
   "execution_count": null,
   "id": "ec9b7a02",
   "metadata": {},
   "outputs": [],
   "source": [
    "import time\n",
    "\n",
    "look_right = reachy.head.look_at(\n",
    "    x=0.5,\n",
    "    y=-0.5,\n",
    "    z=0.1,\n",
    "    duration=1.0,\n",
    "    starting_positions={\n",
    "        reachy.head.neck_roll: reachy.head.neck_roll.goal_position,\n",
    "        reachy.head.neck_pitch: reachy.head.neck_pitch.goal_position,\n",
    "        reachy.head.neck_yaw: reachy.head.neck_yaw.goal_position\n",
    "    })\n",
    "\n",
    "time.sleep(0.5)\n",
    "\n",
    "look_down = reachy.head.look_at(\n",
    "    x=0.5,\n",
    "    y=0,\n",
    "    z=-0.4,\n",
    "    duration=1.0,\n",
    "    starting_positions={\n",
    "        reachy.head.neck_roll: reachy.head.neck_roll.goal_position,\n",
    "        reachy.head.neck_pitch: reachy.head.neck_pitch.goal_position,\n",
    "        reachy.head.neck_yaw: reachy.head.neck_yaw.goal_position\n",
    "    })\n",
    "\n",
    "time.sleep(0.5)\n",
    "\n",
    "look_left = reachy.head.look_at(\n",
    "    x=0.5,\n",
    "    y=0.3,\n",
    "    z=-0.3,\n",
    "    duration=1.0,\n",
    "    starting_positions={\n",
    "        reachy.head.neck_roll: reachy.head.neck_roll.goal_position,\n",
    "        reachy.head.neck_pitch: reachy.head.neck_pitch.goal_position,\n",
    "        reachy.head.neck_yaw: reachy.head.neck_yaw.goal_position\n",
    "    })\n",
    "\n",
    "time.sleep(0.5)\n",
    "\n",
    "look_front = reachy.head.look_at(\n",
    "    x=0.5,\n",
    "    y=0,\n",
    "    z=0,\n",
    "    duration=1.0,\n",
    "    starting_positions={\n",
    "        reachy.head.neck_roll: reachy.head.neck_roll.goal_position,\n",
    "        reachy.head.neck_pitch: reachy.head.neck_pitch.goal_position,\n",
    "        reachy.head.neck_yaw: reachy.head.neck_yaw.goal_position\n",
    "    })"
   ]
  },
  {
   "cell_type": "markdown",
   "id": "6858fa4b",
   "metadata": {},
   "source": [
    "Make the head follow the end-effector. It is a good opportunity to check the forward kinematics of each arm as well.\n",
    "\n",
    "**Press the square button 'interrupt the kernel' when you want to stop this.**\n",
    "\n",
    "With the right arm:"
   ]
  },
  {
   "cell_type": "code",
   "execution_count": null,
   "id": "77c596b1",
   "metadata": {},
   "outputs": [],
   "source": [
    "try:\n",
    "    x, y, z = reachy.r_arm.forward_kinematics()[:3,-1] # We want the translation part of Reachy's pose matrix\n",
    "    reachy.head.look_at(x=x, y=y, z=z-0.05, duration=1.0) # There is a 5cm offset on the z axis\n",
    "\n",
    "    time.sleep(0.5)\n",
    "\n",
    "    while True:\n",
    "        x, y, z = reachy.r_arm.forward_kinematics()[:3,-1]\n",
    "        gp_dic = reachy.head._look_at(x, y, z - 0.05)\n",
    "        reachy.head.neck_roll.goal_position = gp_dic[reachy.head.neck_roll]\n",
    "        reachy.head.neck_pitch.goal_position = gp_dic[reachy.head.neck_pitch]\n",
    "        reachy.head.neck_yaw.goal_position = gp_dic[reachy.head.neck_yaw]\n",
    "        time.sleep(0.01)\n",
    "except AttributeError:\n",
    "    print('Reachy has no right arm!')"
   ]
  },
  {
   "cell_type": "markdown",
   "id": "d972c85a",
   "metadata": {},
   "source": [
    "With the left arm:"
   ]
  },
  {
   "cell_type": "code",
   "execution_count": null,
   "id": "67a6eeb2",
   "metadata": {},
   "outputs": [],
   "source": [
    "try:\n",
    "    x, y, z = reachy.l_arm.forward_kinematics()[:3,-1] # We want the translation part of Reachy's pose matrix\n",
    "    reachy.head.look_at(x=x, y=y, z=z-0.05, duration=1.0) # There is a 5cm offset on the z axis\n",
    "\n",
    "    time.sleep(0.5)\n",
    "\n",
    "    while True:\n",
    "        x, y, z = reachy.l_arm.forward_kinematics()[:3,-1]\n",
    "        gp_dic = reachy.head._look_at(x, y, z - 0.05)\n",
    "        reachy.head.neck_roll.goal_position = gp_dic[reachy.head.neck_roll]\n",
    "        reachy.head.neck_pitch.goal_position = gp_dic[reachy.head.neck_pitch]\n",
    "        reachy.head.neck_yaw.goal_position = gp_dic[reachy.head.neck_yaw]\n",
    "        time.sleep(0.01)\n",
    "except AttributeError:\n",
    "    print('Reachy has no left arm!')"
   ]
  },
  {
   "cell_type": "markdown",
   "id": "844312e6",
   "metadata": {},
   "source": [
    "## Checking the antennas\n",
    "\n",
    "Check that the l_antenna is actually the left and that r_antenna is the right."
   ]
  },
  {
   "cell_type": "code",
   "execution_count": null,
   "id": "c20ba637",
   "metadata": {},
   "outputs": [],
   "source": [
    "reachy.head.l_antenna.goal_position = -40"
   ]
  },
  {
   "cell_type": "code",
   "execution_count": null,
   "id": "a9facac4",
   "metadata": {},
   "outputs": [],
   "source": [
    "reachy.head.l_antenna.goal_position = 0"
   ]
  },
  {
   "cell_type": "code",
   "execution_count": null,
   "id": "9317ea0a",
   "metadata": {},
   "outputs": [],
   "source": [
    "reachy.head.r_antenna.goal_position = -40"
   ]
  },
  {
   "cell_type": "code",
   "execution_count": null,
   "id": "ccb98642",
   "metadata": {},
   "outputs": [],
   "source": [
    "reachy.head.r_antenna.goal_position = 0"
   ]
  },
  {
   "cell_type": "markdown",
   "id": "7dd667ba",
   "metadata": {},
   "source": [
    "Reproduce the sad and happy movements from the [documentation](https://pollen-robotics.github.io/reachy-2021-docs/sdk/first-moves/head/#antennas)."
   ]
  },
  {
   "cell_type": "code",
   "execution_count": null,
   "id": "ff9d530e",
   "metadata": {},
   "outputs": [],
   "source": [
    "def happy_antennas():\n",
    "    reachy.head.l_antenna.speed_limit = 0.0\n",
    "    reachy.head.r_antenna.speed_limit = 0.0\n",
    "    \n",
    "    for _ in range(9):\n",
    "        reachy.head.l_antenna.goal_position = 10.0\n",
    "        reachy.head.r_antenna.goal_position = -10.0\n",
    "\n",
    "        time.sleep(0.1)\n",
    "\n",
    "        reachy.head.l_antenna.goal_position = -10.0\n",
    "        reachy.head.r_antenna.goal_position = 10.0\n",
    "\n",
    "        time.sleep(0.1)\n",
    "    \n",
    "    reachy.head.l_antenna.goal_position = 0.0\n",
    "    reachy.head.r_antenna.goal_position = 0.0\n",
    "        \n",
    "def sad_antennas():\n",
    "    reachy.head.l_antenna.speed_limit = 70.0\n",
    "    reachy.head.r_antenna.speed_limit = 70.0\n",
    "    \n",
    "    reachy.head.l_antenna.goal_position = 140.0\n",
    "    reachy.head.r_antenna.goal_position = -140.0\n",
    "    \n",
    "    time.sleep(5.0)\n",
    "    \n",
    "    reachy.head.l_antenna.goal_position = 0.0\n",
    "    reachy.head.r_antenna.goal_position = 0.0"
   ]
  },
  {
   "cell_type": "code",
   "execution_count": null,
   "id": "d34affa3",
   "metadata": {},
   "outputs": [],
   "source": [
    "happy_antennas()"
   ]
  },
  {
   "cell_type": "code",
   "execution_count": null,
   "id": "41e4cdda",
   "metadata": {},
   "outputs": [],
   "source": [
    "sad_antennas()"
   ]
  },
  {
   "cell_type": "markdown",
   "id": "fc2b0da7",
   "metadata": {},
   "source": [
    "Once you're done using the antennas, make Reachy look forward."
   ]
  },
  {
   "cell_type": "code",
   "execution_count": null,
   "id": "81cd36cd",
   "metadata": {},
   "outputs": [],
   "source": [
    "reachy.head.look_at(x=0.5, y=0, z=0, duration=1.0)"
   ]
  },
  {
   "cell_type": "markdown",
   "id": "7659724b",
   "metadata": {},
   "source": [
    "and turn off the motors."
   ]
  },
  {
   "cell_type": "code",
   "execution_count": null,
   "id": "2c583680",
   "metadata": {},
   "outputs": [],
   "source": [
    "reachy.turn_off('head')"
   ]
  },
  {
   "cell_type": "markdown",
   "id": "afd756b4",
   "metadata": {},
   "source": [
    "## Checking the motorized zooms"
   ]
  },
  {
   "cell_type": "markdown",
   "id": "265ce67a",
   "metadata": {},
   "source": [
    "Check out each of the three zoom levels defined on both cameras.\n",
    "\n",
    "At the same time, use [view_cam.py](https://github.com/pollen-robotics/reachy_controllers/blob/master/examples/view_cam.py) in *~/reachy_ws/src/reachy_controllers/examples* to visualize the cameras and check if the images are clear enough.\n",
    "\n",
    "To view video stream of the left camera, just type:\n",
    "```bash\n",
    "python3 ~/reachy_ws/src/reachy_controllers/examples/view_cam.py left ros\n",
    "```"
   ]
  },
  {
   "cell_type": "code",
   "execution_count": null,
   "id": "7611bd88",
   "metadata": {},
   "outputs": [],
   "source": [
    "from PIL import Image"
   ]
  },
  {
   "cell_type": "markdown",
   "id": "fb3767a0",
   "metadata": {},
   "source": [
    "Check left and right image."
   ]
  },
  {
   "cell_type": "code",
   "execution_count": null,
   "id": "d64104df",
   "metadata": {},
   "outputs": [],
   "source": [
    "Image.fromarray(reachy.left_camera.last_frame[:,:,::-1])"
   ]
  },
  {
   "cell_type": "code",
   "execution_count": null,
   "id": "f5146bc4",
   "metadata": {},
   "outputs": [],
   "source": [
    "Image.fromarray(reachy.right_camera.last_frame[:,:,::-1])"
   ]
  },
  {
   "cell_type": "markdown",
   "id": "349d8a4f",
   "metadata": {},
   "source": [
    "If the image is not clear, use autofocus."
   ]
  },
  {
   "cell_type": "code",
   "execution_count": null,
   "id": "90edbb2f",
   "metadata": {},
   "outputs": [],
   "source": [
    "reachy.left_camera.start_autofocus"
   ]
  },
  {
   "cell_type": "code",
   "execution_count": null,
   "id": "e50b445b",
   "metadata": {},
   "outputs": [],
   "source": [
    "reachy.right_camera.start_autofocus"
   ]
  },
  {
   "cell_type": "code",
   "execution_count": null,
   "id": "aa0d60ce",
   "metadata": {},
   "outputs": [],
   "source": []
  }
 ],
 "metadata": {
  "kernelspec": {
   "display_name": "Python 3",
   "language": "python",
   "name": "python3"
  },
  "language_info": {
   "codemirror_mode": {
    "name": "ipython",
    "version": 3
   },
   "file_extension": ".py",
   "mimetype": "text/x-python",
   "name": "python",
   "nbconvert_exporter": "python",
   "pygments_lexer": "ipython3",
   "version": "3.9.1"
  }
 },
 "nbformat": 4,
 "nbformat_minor": 5
}
