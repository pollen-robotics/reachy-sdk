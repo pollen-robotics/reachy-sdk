{
 "cells": [
  {
   "cell_type": "code",
   "execution_count": 2,
   "id": "e3e1797e",
   "metadata": {},
   "outputs": [],
   "source": [
    "import grpc\n",
    "from reachy_sdk_api import camera_reachy_pb2_grpc\n",
    "from reachy_sdk_api import camera_reachy_pb2\n",
    "\n",
    "from google.protobuf.empty_pb2 import Empty\n",
    "from google.protobuf.wrappers_pb2 import UInt32Value\n",
    "\n",
    "from google.protobuf.descriptor import FieldDescriptor"
   ]
  },
  {
   "cell_type": "code",
   "execution_count": 2,
   "id": "f3d71532",
   "metadata": {},
   "outputs": [],
   "source": [
    "grpc_channel = grpc.insecure_channel('localhost:50057')"
   ]
  },
  {
   "cell_type": "code",
   "execution_count": 3,
   "id": "03d045cd",
   "metadata": {},
   "outputs": [],
   "source": [
    "stub = camera_reachy_pb2_grpc.CameraServiceStub(grpc_channel)"
   ]
  },
  {
   "cell_type": "code",
   "execution_count": 4,
   "id": "1b0a9b6a",
   "metadata": {},
   "outputs": [],
   "source": [
    "from reachy_sdk.camera import Camera"
   ]
  },
  {
   "cell_type": "code",
   "execution_count": 5,
   "id": "94ecbdfa",
   "metadata": {},
   "outputs": [],
   "source": [
    "left_cam = Camera(side='left', stub=stub)"
   ]
  },
  {
   "cell_type": "code",
   "execution_count": 9,
   "id": "1700310c",
   "metadata": {},
   "outputs": [],
   "source": [
    "left_cam.start_autofocus"
   ]
  },
  {
   "cell_type": "code",
   "execution_count": 7,
   "id": "c791de63",
   "metadata": {},
   "outputs": [
    {
     "data": {
      "text/plain": [
       "success: true"
      ]
     },
     "execution_count": 7,
     "metadata": {},
     "output_type": "execute_result"
    }
   ],
   "source": [
    "stub.SetZoomFocus(request=camera_reachy_pb2.ZoomFocusMessage(left_zoom=UInt32Value(value=300)))"
   ]
  },
  {
   "cell_type": "code",
   "execution_count": 14,
   "id": "51bcf887",
   "metadata": {},
   "outputs": [
    {
     "data": {
      "text/plain": [
       "left_zoom {\n",
       "  value: 300\n",
       "}"
      ]
     },
     "execution_count": 14,
     "metadata": {},
     "output_type": "execute_result"
    }
   ],
   "source": [
    "side = 'left'\n",
    "camera_reachy_pb2.ZoomFocusMessage(left_zoom=UInt32Value(value=300))"
   ]
  },
  {
   "cell_type": "code",
   "execution_count": 16,
   "id": "e0e737a4",
   "metadata": {},
   "outputs": [],
   "source": [
    "req = camera_reachy_pb2.ZoomFocusMessage(left_zoom=UInt32Value(value=300))"
   ]
  },
  {
   "cell_type": "code",
   "execution_count": 1,
   "id": "be18ed76",
   "metadata": {},
   "outputs": [],
   "source": [
    "# for field, val in req.ListFields():\n",
    "#     print(field.name, value.val)"
   ]
  },
  {
   "cell_type": "code",
   "execution_count": null,
   "id": "dfc35d6c",
   "metadata": {},
   "outputs": [],
   "source": [
    "FieldDescriptor."
   ]
  },
  {
   "cell_type": "code",
   "execution_count": 10,
   "id": "239f6cf0",
   "metadata": {},
   "outputs": [
    {
     "data": {
      "text/plain": [
       "325"
      ]
     },
     "execution_count": 10,
     "metadata": {},
     "output_type": "execute_result"
    }
   ],
   "source": [
    "stub.GetZoomFocus(request=Empty()).left_focus.value"
   ]
  },
  {
   "cell_type": "code",
   "execution_count": 9,
   "id": "9edcb26d",
   "metadata": {},
   "outputs": [
    {
     "data": {
      "text/plain": [
       "success: true"
      ]
     },
     "execution_count": 9,
     "metadata": {},
     "output_type": "execute_result"
    }
   ],
   "source": [
    "stub.StartAutofocus(camera_reachy_pb2.Camera(id=camera_reachy_pb2.CameraId.LEFT))"
   ]
  },
  {
   "cell_type": "code",
   "execution_count": 7,
   "id": "75950939",
   "metadata": {},
   "outputs": [],
   "source": [
    "left_cam."
   ]
  },
  {
   "cell_type": "code",
   "execution_count": 1,
   "id": "98376a4b",
   "metadata": {},
   "outputs": [],
   "source": [
    "from reachy_sdk import ReachySDK"
   ]
  },
  {
   "cell_type": "code",
   "execution_count": 2,
   "id": "8f568634",
   "metadata": {},
   "outputs": [],
   "source": [
    "reachy = ReachySDK('localhost')"
   ]
  },
  {
   "cell_type": "code",
   "execution_count": 11,
   "id": "a4490169",
   "metadata": {},
   "outputs": [],
   "source": [
    "reachy.left_camera.start_autofocus"
   ]
  },
  {
   "cell_type": "code",
   "execution_count": 10,
   "id": "fbe77cbe",
   "metadata": {},
   "outputs": [],
   "source": [
    "reachy.left_camera.zoom = 400"
   ]
  },
  {
   "cell_type": "code",
   "execution_count": null,
   "id": "cf5b7777",
   "metadata": {},
   "outputs": [],
   "source": []
  }
 ],
 "metadata": {
  "kernelspec": {
   "display_name": "Python 3",
   "language": "python",
   "name": "python3"
  },
  "language_info": {
   "codemirror_mode": {
    "name": "ipython",
    "version": 3
   },
   "file_extension": ".py",
   "mimetype": "text/x-python",
   "name": "python",
   "nbconvert_exporter": "python",
   "pygments_lexer": "ipython3",
   "version": "3.8.5"
  }
 },
 "nbformat": 4,
 "nbformat_minor": 5
}
