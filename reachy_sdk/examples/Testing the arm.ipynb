{
 "cells": [
  {
   "cell_type": "code",
   "execution_count": 17,
   "id": "98f7924d",
   "metadata": {},
   "outputs": [],
   "source": [
    "import numpy as np\n",
    "\n",
    "from reachy_sdk import ReachySDK\n",
    "\n",
    "from reachy_sdk.trajectory import goto\n",
    "from reachy_sdk.trajectory.interpolation import InterpolationMode"
   ]
  },
  {
   "cell_type": "code",
   "execution_count": 2,
   "id": "8c06d8d2",
   "metadata": {},
   "outputs": [],
   "source": [
    "reachy = ReachySDK('localhost')"
   ]
  },
  {
   "cell_type": "markdown",
   "id": "d6fdff57",
   "metadata": {},
   "source": [
    "Check if all the joints seem to be detected."
   ]
  },
  {
   "cell_type": "code",
   "execution_count": 3,
   "id": "d4944d7b",
   "metadata": {},
   "outputs": [
    {
     "data": {
      "text/plain": [
       "<Reachy host=\"localhost\" joints=\n",
       "\t<Joint name=\"l_shoulder_pitch\" pos=\"33.52\" mode=\"compliant\">\n",
       "\t<Joint name=\"l_shoulder_roll\" pos=\"-5.56\" mode=\"compliant\">\n",
       "\t<Joint name=\"l_arm_yaw\" pos=\"-5.14\" mode=\"compliant\">\n",
       "\t<Joint name=\"l_elbow_pitch\" pos=\"-66.07\" mode=\"compliant\">\n",
       "\t<Joint name=\"l_forearm_yaw\" pos=\"-15.40\" mode=\"compliant\">\n",
       "\t<Joint name=\"l_wrist_pitch\" pos=\"-63.25\" mode=\"compliant\">\n",
       "\t<Joint name=\"l_wrist_roll\" pos=\"15.40\" mode=\"compliant\">\n",
       "\t<Joint name=\"l_gripper\" pos=\"-19.87\" mode=\"compliant\">\n",
       "\t<Joint name=\"r_shoulder_pitch\" pos=\"8.64\" mode=\"compliant\">\n",
       "\t<Joint name=\"r_shoulder_roll\" pos=\"-8.06\" mode=\"compliant\">\n",
       "\t<Joint name=\"r_arm_yaw\" pos=\"9.10\" mode=\"compliant\">\n",
       "\t<Joint name=\"r_elbow_pitch\" pos=\"-63.16\" mode=\"compliant\">\n",
       "\t<Joint name=\"r_forearm_yaw\" pos=\"4.25\" mode=\"compliant\">\n",
       "\t<Joint name=\"r_wrist_pitch\" pos=\"-34.42\" mode=\"compliant\">\n",
       "\t<Joint name=\"r_wrist_roll\" pos=\"-4.84\" mode=\"compliant\">\n",
       "\t<Joint name=\"r_gripper\" pos=\"14.74\" mode=\"compliant\">\n",
       "\t<Joint name=\"l_antenna\" pos=\"-0.73\" mode=\"compliant\">\n",
       "\t<Joint name=\"r_antenna\" pos=\"-1.32\" mode=\"compliant\">\n",
       "\t<Joint name=\"neck_disk_top\" pos=\"-59.95\" mode=\"compliant\">\n",
       "\t<Joint name=\"neck_disk_middle\" pos=\"-59.67\" mode=\"compliant\">\n",
       "\t<Joint name=\"neck_disk_bottom\" pos=\"-60.04\" mode=\"compliant\">\n",
       ">"
      ]
     },
     "execution_count": 3,
     "metadata": {},
     "output_type": "execute_result"
    }
   ],
   "source": [
    "reachy"
   ]
  },
  {
   "cell_type": "markdown",
   "id": "64d6c7d3",
   "metadata": {},
   "source": [
    "Check compliance."
   ]
  },
  {
   "cell_type": "code",
   "execution_count": 4,
   "id": "8d6f8d03",
   "metadata": {},
   "outputs": [],
   "source": [
    "reachy.turn_on('reachy')"
   ]
  },
  {
   "cell_type": "code",
   "execution_count": 5,
   "id": "4bdcb7a1",
   "metadata": {},
   "outputs": [],
   "source": [
    "reachy.turn_off('reachy')"
   ]
  },
  {
   "cell_type": "markdown",
   "id": "f7850583",
   "metadata": {},
   "source": [
    "Lift both arms, put them in stiff mode and check if *turn_off_smoothly* works."
   ]
  },
  {
   "cell_type": "code",
   "execution_count": 6,
   "id": "eaff4dd0",
   "metadata": {},
   "outputs": [],
   "source": [
    "reachy.turn_on('reachy')"
   ]
  },
  {
   "cell_type": "code",
   "execution_count": 7,
   "id": "899c2885",
   "metadata": {},
   "outputs": [],
   "source": [
    "reachy.turn_off_smoothly('reachy')"
   ]
  },
  {
   "cell_type": "markdown",
   "id": "1387c8ff",
   "metadata": {},
   "source": [
    "Put each arm at 90 degrees."
   ]
  },
  {
   "cell_type": "code",
   "execution_count": 10,
   "id": "caf45293",
   "metadata": {},
   "outputs": [],
   "source": [
    "right_angled_position_right = {\n",
    "    reachy.r_arm.r_shoulder_pitch: 0,\n",
    "    reachy.r_arm.r_shoulder_roll: 0,\n",
    "    reachy.r_arm.r_arm_yaw: 0,\n",
    "    reachy.r_arm.r_elbow_pitch: -90,\n",
    "    reachy.r_arm.r_forearm_yaw: 0,\n",
    "    reachy.r_arm.r_wrist_pitch: 0,\n",
    "    reachy.r_arm.r_wrist_roll: 0,\n",
    "}\n",
    "\n",
    "right_angled_position_left = {\n",
    "    reachy.l_arm.l_shoulder_pitch: 0,\n",
    "    reachy.l_arm.l_shoulder_roll: 0,\n",
    "    reachy.l_arm.l_arm_yaw: 0,\n",
    "    reachy.l_arm.l_elbow_pitch: -90,\n",
    "    reachy.l_arm.l_forearm_yaw: 0,\n",
    "    reachy.l_arm.l_wrist_pitch: 0,\n",
    "    reachy.l_arm.l_wrist_roll: 0,\n",
    "}"
   ]
  },
  {
   "cell_type": "code",
   "execution_count": 11,
   "id": "36320685",
   "metadata": {},
   "outputs": [],
   "source": [
    "reachy.turn_on('reachy')"
   ]
  },
  {
   "cell_type": "code",
   "execution_count": 13,
   "id": "10a21a8b",
   "metadata": {},
   "outputs": [],
   "source": [
    "goto(\n",
    "    goal_positions=right_angled_position_right,\n",
    "    duration=1.0,\n",
    "    interpolation_mode=InterpolationMode.MINIMUM_JERK\n",
    ")"
   ]
  },
  {
   "cell_type": "code",
   "execution_count": 14,
   "id": "67e0938d",
   "metadata": {},
   "outputs": [],
   "source": [
    "goto(\n",
    "    goal_positions=right_angled_position_left,\n",
    "    duration=1.0,\n",
    "    interpolation_mode=InterpolationMode.MINIMUM_JERK\n",
    ")"
   ]
  },
  {
   "cell_type": "code",
   "execution_count": 15,
   "id": "8250041f",
   "metadata": {},
   "outputs": [],
   "source": [
    "reachy.turn_off_smoothly('reachy')"
   ]
  },
  {
   "cell_type": "markdown",
   "id": "2457b9a2",
   "metadata": {},
   "source": [
    "Reproduce the square movement from [the documentation](https://pollen-robotics.github.io/reachy-2021-docs/sdk/first-moves/kinematics/#inverse-kinematics), to check if this Reachy can reproduce it."
   ]
  },
  {
   "cell_type": "markdown",
   "id": "c9c295c3",
   "metadata": {},
   "source": [
    "For the right arm:"
   ]
  },
  {
   "cell_type": "code",
   "execution_count": 18,
   "id": "c6802a17",
   "metadata": {},
   "outputs": [],
   "source": [
    "A = np.array([\n",
    "  [0, 0, -1, 0.3],\n",
    "  [0, 1, 0, -0.4],  \n",
    "  [1, 0, 0, -0.3],\n",
    "  [0, 0, 0, 1],  \n",
    "])\n",
    "\n",
    "B = np.array([\n",
    "  [0, 0, -1, 0.3],\n",
    "  [0, 1, 0, -0.4],  \n",
    "  [1, 0, 0, 0.0],\n",
    "  [0, 0, 0, 1],  \n",
    "])\n",
    "\n",
    "C = np.array([\n",
    "  [0, 0, -1, 0.3],\n",
    "  [0, 1, 0, -0.1],  \n",
    "  [1, 0, 0, 0.0],\n",
    "  [0, 0, 0, 1],  \n",
    "])\n",
    "\n",
    "D = np.array([\n",
    "  [0, 0, -1, 0.3],\n",
    "  [0, 1, 0, -0.1],  \n",
    "  [1, 0, 0, -0.3],\n",
    "  [0, 0, 0, 1],  \n",
    "])"
   ]
  },
  {
   "cell_type": "code",
   "execution_count": 19,
   "id": "eafae578",
   "metadata": {},
   "outputs": [],
   "source": [
    "joint_pos_A = reachy.r_arm.inverse_kinematics(A)\n",
    "joint_pos_B = reachy.r_arm.inverse_kinematics(B)\n",
    "joint_pos_C = reachy.r_arm.inverse_kinematics(C)\n",
    "joint_pos_D = reachy.r_arm.inverse_kinematics(D)"
   ]
  },
  {
   "cell_type": "code",
   "execution_count": 20,
   "id": "39e4971e",
   "metadata": {},
   "outputs": [],
   "source": [
    "import time\n",
    "# put the joints in stiff mode\n",
    "reachy.turn_on('r_arm')\n",
    "\n",
    "# use the goto function\n",
    "goto({joint: pos for joint,pos in zip(reachy.r_arm.joints.values(), joint_pos_A)}, duration=1.0)\n",
    "time.sleep(0.5)\n",
    "goto({joint: pos for joint,pos in zip(reachy.r_arm.joints.values(), joint_pos_B)}, duration=1.0)\n",
    "time.sleep(0.5)\n",
    "goto({joint: pos for joint,pos in zip(reachy.r_arm.joints.values(), joint_pos_C)}, duration=1.0)\n",
    "time.sleep(0.5)\n",
    "goto({joint: pos for joint,pos in zip(reachy.r_arm.joints.values(), joint_pos_D)}, duration=1.0)\n",
    "\n",
    "# put the joints back to compliant mode\n",
    "# use turn_off_smoothly to prevent the arm from falling hard\n",
    "reachy.turn_off_smoothly('r_arm')"
   ]
  },
  {
   "cell_type": "markdown",
   "id": "644df0cf",
   "metadata": {},
   "source": [
    "For the left arm:"
   ]
  },
  {
   "cell_type": "code",
   "execution_count": 40,
   "id": "c369cac4",
   "metadata": {},
   "outputs": [],
   "source": [
    "A = np.array([\n",
    "  [0, 0, -1, 0.3],\n",
    "  [0, 1, 0, 0.1],  \n",
    "  [1, 0, 0, -0.3],\n",
    "  [0, 0, 0, 1],  \n",
    "])\n",
    "\n",
    "B = np.array([\n",
    "  [0, 0, -1, 0.3],\n",
    "  [0, 1, 0, 0.1],  \n",
    "  [1, 0, 0, 0.0],\n",
    "  [0, 0, 0, 1],  \n",
    "])\n",
    "\n",
    "C = np.array([\n",
    "  [0, 0, -1, 0.3],\n",
    "  [0, 1, 0, -0.1],  \n",
    "  [1, 0, 0, 0.0],\n",
    "  [0, 0, 0, 1],  \n",
    "])\n",
    "\n",
    "D = np.array([\n",
    "  [0, 0, -1, 0.3],\n",
    "  [0, 1, 0, -0.1],  \n",
    "  [1, 0, 0, -0.3],\n",
    "  [0, 0, 0, 1],  \n",
    "])"
   ]
  },
  {
   "cell_type": "code",
   "execution_count": 41,
   "id": "9620fd8d",
   "metadata": {},
   "outputs": [],
   "source": [
    "joint_pos_A = reachy.r_arm.inverse_kinematics(A)\n",
    "joint_pos_B = reachy.r_arm.inverse_kinematics(B)\n",
    "joint_pos_C = reachy.r_arm.inverse_kinematics(C)\n",
    "joint_pos_D = reachy.r_arm.inverse_kinematics(D)"
   ]
  },
  {
   "cell_type": "code",
   "execution_count": 46,
   "id": "ebde3991",
   "metadata": {},
   "outputs": [],
   "source": [
    "# put the joints in stiff mode\n",
    "reachy.turn_on('l_arm')\n",
    "\n",
    "# use the goto function\n",
    "goto({joint: pos for joint,pos in zip(reachy.l_arm.joints.values(), joint_pos_A)}, duration=1.0)\n",
    "time.sleep(0.5)\n",
    "goto({joint: pos for joint,pos in zip(reachy.l_arm.joints.values(), joint_pos_B)}, duration=1.0)\n",
    "time.sleep(0.5)\n",
    "goto({joint: pos for joint,pos in zip(reachy.l_arm.joints.values(), joint_pos_C)}, duration=1.0)\n",
    "time.sleep(0.5)\n",
    "goto({joint: pos for joint,pos in zip(reachy.l_arm.joints.values(), joint_pos_D)}, duration=1.0)\n",
    "\n",
    "# put the joints back to compliant mode\n",
    "# use turn_off_smoothly to prevent the arm from falling hard\n",
    "reachy.turn_off_smoothly('l_arm')"
   ]
  },
  {
   "cell_type": "markdown",
   "id": "003213c1",
   "metadata": {},
   "source": [
    "Check the force sensors."
   ]
  },
  {
   "cell_type": "code",
   "execution_count": 57,
   "id": "ced090d3",
   "metadata": {},
   "outputs": [
    {
     "data": {
      "text/plain": [
       "<Holder\n",
       "\t<ForceSensor name=\"l_force_gripper\" force=\"29.08\">\n",
       "\t<ForceSensor name=\"r_force_gripper\" force=\"19.89\">\n",
       ">"
      ]
     },
     "execution_count": 57,
     "metadata": {},
     "output_type": "execute_result"
    }
   ],
   "source": [
    "reachy.force_sensors"
   ]
  }
 ],
 "metadata": {
  "kernelspec": {
   "display_name": "Python 3",
   "language": "python",
   "name": "python3"
  },
  "language_info": {
   "codemirror_mode": {
    "name": "ipython",
    "version": 3
   },
   "file_extension": ".py",
   "mimetype": "text/x-python",
   "name": "python",
   "nbconvert_exporter": "python",
   "pygments_lexer": "ipython3",
   "version": "3.8.5"
  }
 },
 "nbformat": 4,
 "nbformat_minor": 5
}
