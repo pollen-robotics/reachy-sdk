{
 "cells": [
  {
   "cell_type": "code",
   "execution_count": null,
   "id": "98f7924d",
   "metadata": {},
   "outputs": [],
   "source": [
    "import numpy as np\n",
    "\n",
    "from reachy_sdk import ReachySDK\n",
    "\n",
    "from reachy_sdk.trajectory import goto\n",
    "from reachy_sdk.trajectory.interpolation import InterpolationMode"
   ]
  },
  {
   "cell_type": "code",
   "execution_count": null,
   "id": "8c06d8d2",
   "metadata": {},
   "outputs": [],
   "source": [
    "reachy = ReachySDK('192.168.1.21')"
   ]
  },
  {
   "cell_type": "markdown",
   "id": "d6fdff57",
   "metadata": {},
   "source": [
    "Check if all the joints seem to be detected."
   ]
  },
  {
   "cell_type": "code",
   "execution_count": null,
   "id": "d4944d7b",
   "metadata": {},
   "outputs": [],
   "source": [
    "reachy.left_camera.start_autofocus()"
   ]
  },
  {
   "cell_type": "markdown",
   "id": "64d6c7d3",
   "metadata": {},
   "source": [
    "## Recording a movement on the right arm"
   ]
  },
  {
   "cell_type": "code",
   "execution_count": null,
   "id": "8d6f8d03",
   "metadata": {},
   "outputs": [],
   "source": [
    "reachy.turn_off('reachy')\n",
    "recorded_joints = [\n",
    "    reachy.r_arm.r_shoulder_pitch,\n",
    "    reachy.r_arm.r_shoulder_roll,\n",
    "    reachy.r_arm.r_arm_yaw,\n",
    "    reachy.r_arm.r_elbow_pitch,\n",
    "    reachy.r_arm.r_forearm_yaw,\n",
    "    reachy.r_arm.r_wrist_pitch,\n",
    "    reachy.r_arm.r_wrist_roll,\n",
    "]\n",
    "sampling_frequency = 100  # in Hz\n",
    "record_duration = 5  # in sec.\n",
    "\n",
    "import time\n",
    "\n",
    "trajectories = []\n",
    "\n",
    "start = time.time()\n",
    "while (time.time() - start) < record_duration:\n",
    "    # We here get the present position for all of recorded joints\n",
    "    current_point = [joint.present_position for joint in recorded_joints]\n",
    "    # Add this point to the already recorded trajectories\n",
    "    trajectories.append(current_point)\n",
    "\n",
    "    time.sleep(1 / sampling_frequency)\n",
    "print(\"Recorded!\")"
   ]
  },
  {
   "cell_type": "code",
   "execution_count": null,
   "id": "9513aad9",
   "metadata": {},
   "outputs": [],
   "source": [
    "import numpy as np\n",
    "\n",
    "traj_array = np.array(trajectories)\n",
    "\n",
    "from reachy_sdk.trajectory import goto\n",
    "\n",
    "# Set all used joint stiff\n",
    "for joint in recorded_joints:\n",
    "    joint.compliant = False\n",
    "\n",
    "# Create a dict associating a joint to its first recorded position\n",
    "first_point = dict(zip(recorded_joints, trajectories[0]))\n",
    "\n",
    "# Goes to the start of the trajectory in 3s\n",
    "goto(first_point, duration=3.0)\n",
    "print(\"First point reached!\")\n",
    "\n",
    "import time\n",
    "\n",
    "for joints_positions in trajectories:\n",
    "    for joint, pos in zip(recorded_joints, joints_positions):\n",
    "        joint.goal_position = pos\n",
    "\n",
    "    time.sleep(1 / sampling_frequency)\n",
    "print(\"Done!\")"
   ]
  },
  {
   "cell_type": "code",
   "execution_count": null,
   "id": "7b75192a",
   "metadata": {},
   "outputs": [],
   "source": [
    "reachy.turn_off_smoothly('reachy')"
   ]
  },
  {
   "cell_type": "code",
   "execution_count": null,
   "id": "faa4814d",
   "metadata": {},
   "outputs": [],
   "source": []
  }
 ],
 "metadata": {
  "kernelspec": {
   "display_name": "Python 3 (ipykernel)",
   "language": "python",
   "name": "python3"
  },
  "language_info": {
   "codemirror_mode": {
    "name": "ipython",
    "version": 3
   },
   "file_extension": ".py",
   "mimetype": "text/x-python",
   "name": "python",
   "nbconvert_exporter": "python",
   "pygments_lexer": "ipython3",
   "version": "3.8.10"
  }
 },
 "nbformat": 4,
 "nbformat_minor": 5
}
